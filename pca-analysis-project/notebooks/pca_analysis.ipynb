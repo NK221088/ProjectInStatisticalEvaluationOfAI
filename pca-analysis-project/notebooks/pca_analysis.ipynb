{
 "cells": [
  {
   "cell_type": "markdown",
   "metadata": {},
   "source": [
    "# PCA Analysis\n",
    "\n",
    "This notebook performs Principal Component Analysis (PCA) on the processed data extracted from PDF files. It includes steps for loading the data, normalizing it, performing PCA, and visualizing the results."
   ]
  },
  {
   "cell_type": "code",
   "execution_count": null,
   "metadata": {},
   "outputs": [],
   "source": [
    "import pandas as pd\n",
    "import numpy as np\n",
    "import matplotlib.pyplot as plt\n",
    "from sklearn.decomposition import PCA\n",
    "from sklearn.preprocessing import StandardScaler\n",
    "\n",
    "# Load the processed data\n",
    "data_path = '../src/processed_data.csv'  # Update with the correct path to your processed data\n",
    "df = pd.read_csv(data_path)\n",
    "\n",
    "# Display the first few rows of the DataFrame\n",
    "df.head()"
   ]
  },
  {
   "cell_type": "code",
   "execution_count": null,
   "metadata": {},
   "outputs": [],
   "source": [
    "# Normalize the data\n",
    "features = df.columns[1:]  # Assuming the first column is the country or identifier\n",
    "x = df[features].values\n",
    "x = StandardScaler().fit_transform(x)  # Standardize the data\n",
    "\n",
    "# Perform PCA\n",
    "pca = PCA(n_components=2)  # Change the number of components as needed\n",
    "principal_components = pca.fit_transform(x)\n",
    "\n",
    "# Create a DataFrame with the principal components\n",
    "principal_df = pd.DataFrame(data=principal_components, columns=['Principal Component 1', 'Principal Component 2'])\n",
    "final_df = pd.concat([principal_df, df[['country']]], axis=1)  # Assuming 'country' is the identifier\n",
    "\n",
    "# Display the principal components DataFrame\n",
    "final_df.head()"
   ]
  },
  {
   "cell_type": "code",
   "execution_count": null,
   "metadata": {},
   "outputs": [],
   "source": [
    "# Visualize the explained variance\n",
    "plt.figure(figsize=(10, 6))\n",
    "plt.plot(range(1, len(pca.explained_variance_ratio_) + 1), pca.explained_variance_ratio_, marker='o')\n",
    "plt.title('Explained Variance by Principal Components')\n",
    "plt.xlabel('Principal Component')\n",
    "plt.ylabel('Variance Explained')\n",
    "plt.xticks(range(1, len(pca.explained_variance_ratio_) + 1))\n",
    "plt.grid()\n",
    "plt.show()"
   ]
  },
  {
   "cell_type": "code",
   "execution_count": null,
   "metadata": {},
   "outputs": [],
   "source": [
    "# Scatter plot of the principal components\n",
    "plt.figure(figsize=(10, 6))\n",
    "plt.scatter(final_df['Principal Component 1'], final_df['Principal Component 2'], alpha=0.7)\n",
    "for i, txt in enumerate(final_df['country']):\n",
    "    plt.annotate(txt, (final_df['Principal Component 1'][i], final_df['Principal Component 2'][i]), fontsize=8)\n",
    "plt.title('PCA of Extracted Data')\n",
    "plt.xlabel('Principal Component 1')\n",
    "plt.ylabel('Principal Component 2')\n",
    "plt.grid()\n",
    "plt.show()"
   ]
  }
 ],
 "metadata": {
  "kernelspec": {
   "display_name": "Python 3",
   "language": "python",
   "name": "python3"
  },
  "language_info": {
   "codemirror_mode": {
    "name": "ipython",
    "version": 3
   },
   "file_extension": ".py",
   "mimetype": "text/x-python",
   "name": "python",
   "nbconvert_exporter": "python",
   "pygments_lexer": "ipython3",
   "version": "3.8.5"
  }
 },
 "nbformat": 4,
 "nbformat_minor": 4
}