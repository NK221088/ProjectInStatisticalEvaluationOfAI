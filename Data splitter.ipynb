{
 "cells": [
  {
   "cell_type": "code",
   "execution_count": 46,
   "id": "8a01606e",
   "metadata": {},
   "outputs": [
    {
     "name": "stdout",
     "output_type": "stream",
     "text": [
      "['countries\\\\Afghanistan-1.pdf', 'countries\\\\Afghanistan-2.pdf', 'countries\\\\Afghanistan-3.pdf', 'countries\\\\Afghanistan-4.pdf', 'countries\\\\Afghanistan-5.pdf', 'countries\\\\Albania-1.pdf', 'countries\\\\Albania-2.pdf', 'countries\\\\Albania-3.pdf', 'countries\\\\Albania-4.pdf', 'countries\\\\Albania-5.pdf', 'countries\\\\Algeria-1.pdf', 'countries\\\\Algeria-2.pdf', 'countries\\\\Algeria-3.pdf', 'countries\\\\Algeria-4.pdf', 'countries\\\\Algeria-5.pdf', 'countries\\\\Andorra-1.pdf', 'countries\\\\Andorra-2.pdf', 'countries\\\\Andorra-3.pdf', 'countries\\\\Andorra-4.pdf', 'countries\\\\Andorra-5.pdf', 'countries\\\\Angola-1.pdf', 'countries\\\\Angola-2.pdf', 'countries\\\\Angola-3.pdf', 'countries\\\\Angola-4.pdf', 'countries\\\\Angola-5.pdf', 'countries\\\\Antigua and Barbuda-1.pdf', 'countries\\\\Antigua and Barbuda-2.pdf', 'countries\\\\Antigua and Barbuda-3.pdf', 'countries\\\\Antigua and Barbuda-4.pdf', 'countries\\\\Antigua and Barbuda-5.pdf', 'countries\\\\Argentina-1.pdf', 'countries\\\\Argentina-2.pdf', 'countries\\\\Argentina-3.pdf', 'countries\\\\Argentina-4.pdf', 'countries\\\\Argentina-5.pdf', 'countries\\\\Armenia-1.pdf', 'countries\\\\Armenia-2.pdf', 'countries\\\\Armenia-3.pdf', 'countries\\\\Armenia-4.pdf', 'countries\\\\Armenia-5.pdf', 'countries\\\\Australia-1.pdf', 'countries\\\\Australia-2.pdf', 'countries\\\\Australia-3.pdf', 'countries\\\\Australia-4.pdf', 'countries\\\\Australia-5.pdf', 'countries\\\\Austria-1.pdf', 'countries\\\\Austria-2.pdf', 'countries\\\\Austria-3.pdf', 'countries\\\\Austria-4.pdf', 'countries\\\\Austria-5.pdf', 'countries\\\\Azerbaijan-1.pdf', 'countries\\\\Azerbaijan-2.pdf', 'countries\\\\Azerbaijan-3.pdf', 'countries\\\\Azerbaijan-4.pdf', 'countries\\\\Azerbaijan-5.pdf', 'countries\\\\Bahamas-1.pdf', 'countries\\\\Bahamas-2.pdf', 'countries\\\\Bahamas-3.pdf', 'countries\\\\Bahamas-4.pdf', 'countries\\\\Bahamas-5.pdf', 'countries\\\\Bahrain-1.pdf', 'countries\\\\Bahrain-2.pdf', 'countries\\\\Bahrain-3.pdf', 'countries\\\\Bahrain-4.pdf', 'countries\\\\Bahrain-5.pdf', 'countries\\\\Bangladesh-1.pdf', 'countries\\\\Bangladesh-2.pdf', 'countries\\\\Bangladesh-3.pdf', 'countries\\\\Bangladesh-4.pdf', 'countries\\\\Bangladesh-5.pdf', 'countries\\\\Barbados-1.pdf', 'countries\\\\Barbados-2.pdf', 'countries\\\\Barbados-3.pdf', 'countries\\\\Barbados-4.pdf', 'countries\\\\Barbados-5.pdf', 'countries\\\\Belarus-1.pdf', 'countries\\\\Belarus-2.pdf', 'countries\\\\Belarus-3.pdf', 'countries\\\\Belarus-4.pdf', 'countries\\\\Belarus-5.pdf', 'countries\\\\Belgium-1.pdf', 'countries\\\\Belgium-2.pdf', 'countries\\\\Belgium-3.pdf', 'countries\\\\Belgium-4.pdf', 'countries\\\\Belgium-5.pdf', 'countries\\\\Belize-1.pdf', 'countries\\\\Belize-2.pdf', 'countries\\\\Belize-3.pdf', 'countries\\\\Belize-4.pdf', 'countries\\\\Belize-5.pdf', 'countries\\\\Benin-1.pdf', 'countries\\\\Benin-2.pdf', 'countries\\\\Benin-3.pdf', 'countries\\\\Benin-4.pdf', 'countries\\\\Benin-5.pdf', 'countries\\\\Bhutan-1.pdf', 'countries\\\\Bhutan-2.pdf', 'countries\\\\Bhutan-3.pdf', 'countries\\\\Bhutan-4.pdf', 'countries\\\\Bhutan-5.pdf', 'countries\\\\Bolivia (Plurinational State of)-1.pdf', 'countries\\\\Bolivia (Plurinational State of)-2.pdf', 'countries\\\\Bolivia (Plurinational State of)-3.pdf', 'countries\\\\Bolivia (Plurinational State of)-4.pdf', 'countries\\\\Bolivia (Plurinational State of)-5.pdf', 'countries\\\\Bosnia and Herzegovina-1.pdf', 'countries\\\\Bosnia and Herzegovina-2.pdf', 'countries\\\\Bosnia and Herzegovina-3.pdf', 'countries\\\\Bosnia and Herzegovina-4.pdf', 'countries\\\\Bosnia and Herzegovina-5.pdf', 'countries\\\\Botswana-1.pdf', 'countries\\\\Botswana-2.pdf', 'countries\\\\Botswana-3.pdf', 'countries\\\\Botswana-4.pdf', 'countries\\\\Botswana-5.pdf', 'countries\\\\Brazil-1.pdf', 'countries\\\\Brazil-2.pdf', 'countries\\\\Brazil-3.pdf', 'countries\\\\Brazil-4.pdf', 'countries\\\\Brazil-5.pdf', 'countries\\\\Brunei Darussalam-1.pdf', 'countries\\\\Brunei Darussalam-2.pdf', 'countries\\\\Brunei Darussalam-3.pdf', 'countries\\\\Brunei Darussalam-4.pdf', 'countries\\\\Brunei Darussalam-5.pdf', 'countries\\\\Bulgaria-1.pdf', 'countries\\\\Bulgaria-2.pdf', 'countries\\\\Bulgaria-3.pdf', 'countries\\\\Bulgaria-4.pdf', 'countries\\\\Bulgaria-5.pdf', 'countries\\\\Burkina Faso-1.pdf', 'countries\\\\Burkina Faso-2.pdf', 'countries\\\\Burkina Faso-3.pdf', 'countries\\\\Burkina Faso-4.pdf', 'countries\\\\Burkina Faso-5.pdf', 'countries\\\\Burundi-1.pdf', 'countries\\\\Burundi-2.pdf', 'countries\\\\Burundi-3.pdf', 'countries\\\\Burundi-4.pdf', 'countries\\\\Burundi-5.pdf', 'countries\\\\Cabo Verde-1.pdf', 'countries\\\\Cabo Verde-2.pdf', 'countries\\\\Cabo Verde-3.pdf', 'countries\\\\Cabo Verde-4.pdf', 'countries\\\\Cabo Verde-5.pdf', 'countries\\\\Cambodia-1.pdf', 'countries\\\\Cambodia-2.pdf', 'countries\\\\Cambodia-3.pdf', 'countries\\\\Cambodia-4.pdf', 'countries\\\\Cambodia-5.pdf', 'countries\\\\Cameroon-1.pdf', 'countries\\\\Cameroon-2.pdf', 'countries\\\\Cameroon-3.pdf', 'countries\\\\Cameroon-4.pdf', 'countries\\\\Cameroon-5.pdf', 'countries\\\\Canada-1.pdf', 'countries\\\\Canada-2.pdf', 'countries\\\\Canada-3.pdf', 'countries\\\\Canada-4.pdf', 'countries\\\\Canada-5.pdf', 'countries\\\\Central African Republic-1.pdf', 'countries\\\\Central African Republic-2.pdf', 'countries\\\\Central African Republic-3.pdf', 'countries\\\\Central African Republic-4.pdf', 'countries\\\\Central African Republic-5.pdf', 'countries\\\\Chad-1.pdf', 'countries\\\\Chad-2.pdf', 'countries\\\\Chad-3.pdf', 'countries\\\\Chad-4.pdf', 'countries\\\\Chad-5.pdf', 'countries\\\\Chile-1.pdf', 'countries\\\\Chile-2.pdf', 'countries\\\\Chile-3.pdf', 'countries\\\\Chile-4.pdf', 'countries\\\\Chile-5.pdf', 'countries\\\\China-1.pdf', 'countries\\\\China-2.pdf', 'countries\\\\China-3.pdf', 'countries\\\\China-4.pdf', 'countries\\\\China-5.pdf', 'countries\\\\Colombia-1.pdf', 'countries\\\\Colombia-2.pdf', 'countries\\\\Colombia-3.pdf', 'countries\\\\Colombia-4.pdf', 'countries\\\\Colombia-5.pdf', 'countries\\\\Comoros-1.pdf', 'countries\\\\Comoros-2.pdf', 'countries\\\\Comoros-3.pdf', 'countries\\\\Comoros-4.pdf', 'countries\\\\Comoros-5.pdf', 'countries\\\\Congo-1.pdf', 'countries\\\\Congo-2.pdf', 'countries\\\\Congo-3.pdf', 'countries\\\\Congo-4.pdf', 'countries\\\\Congo-5.pdf', 'countries\\\\Costa Rica-1.pdf', 'countries\\\\Costa Rica-2.pdf', 'countries\\\\Costa Rica-3.pdf', 'countries\\\\Costa Rica-4.pdf', 'countries\\\\Costa Rica-5.pdf', 'countries\\\\Croatia-1.pdf', 'countries\\\\Croatia-2.pdf', 'countries\\\\Croatia-3.pdf', 'countries\\\\Croatia-4.pdf', 'countries\\\\Croatia-5.pdf', 'countries\\\\Cuba-1.pdf', 'countries\\\\Cuba-2.pdf', 'countries\\\\Cuba-3.pdf', 'countries\\\\Cuba-4.pdf', 'countries\\\\Cuba-5.pdf', 'countries\\\\Cyprus-1.pdf', 'countries\\\\Cyprus-2.pdf', 'countries\\\\Cyprus-3.pdf', 'countries\\\\Cyprus-4.pdf', 'countries\\\\Cyprus-5.pdf', 'countries\\\\Czechia-1.pdf', 'countries\\\\Czechia-2.pdf', 'countries\\\\Czechia-3.pdf', 'countries\\\\Czechia-4.pdf', 'countries\\\\Czechia-5.pdf', \"countries\\\\Côte d'Ivoire-1.pdf\", \"countries\\\\Côte d'Ivoire-2.pdf\", \"countries\\\\Côte d'Ivoire-3.pdf\", \"countries\\\\Côte d'Ivoire-4.pdf\", \"countries\\\\Côte d'Ivoire-5.pdf\", \"countries\\\\Democratic People's Republic of Korea-1.pdf\", \"countries\\\\Democratic People's Republic of Korea-2.pdf\", \"countries\\\\Democratic People's Republic of Korea-3.pdf\", \"countries\\\\Democratic People's Republic of Korea-4.pdf\", \"countries\\\\Democratic People's Republic of Korea-5.pdf\", 'countries\\\\Democratic Republic of the Congo-1.pdf', 'countries\\\\Democratic Republic of the Congo-2.pdf', 'countries\\\\Democratic Republic of the Congo-3.pdf', 'countries\\\\Democratic Republic of the Congo-4.pdf', 'countries\\\\Democratic Republic of the Congo-5.pdf', 'countries\\\\Denmark-1.pdf', 'countries\\\\Denmark-2.pdf', 'countries\\\\Denmark-3.pdf', 'countries\\\\Denmark-4.pdf', 'countries\\\\Denmark-5.pdf', 'countries\\\\Djibouti-1.pdf', 'countries\\\\Djibouti-2.pdf', 'countries\\\\Djibouti-3.pdf', 'countries\\\\Djibouti-4.pdf', 'countries\\\\Djibouti-5.pdf', 'countries\\\\Dominica-1.pdf', 'countries\\\\Dominica-2.pdf', 'countries\\\\Dominica-3.pdf', 'countries\\\\Dominica-4.pdf', 'countries\\\\Dominica-5.pdf', 'countries\\\\Dominican Republic-1.pdf', 'countries\\\\Dominican Republic-2.pdf', 'countries\\\\Dominican Republic-3.pdf', 'countries\\\\Dominican Republic-4.pdf', 'countries\\\\Dominican Republic-5.pdf', 'countries\\\\Ecuador-1.pdf', 'countries\\\\Ecuador-2.pdf', 'countries\\\\Ecuador-3.pdf', 'countries\\\\Ecuador-4.pdf', 'countries\\\\Ecuador-5.pdf', 'countries\\\\Egypt-1.pdf', 'countries\\\\Egypt-2.pdf', 'countries\\\\Egypt-3.pdf', 'countries\\\\Egypt-4.pdf', 'countries\\\\Egypt-5.pdf', 'countries\\\\El Salvador-1.pdf', 'countries\\\\El Salvador-2.pdf', 'countries\\\\El Salvador-3.pdf', 'countries\\\\El Salvador-4.pdf', 'countries\\\\El Salvador-5.pdf', 'countries\\\\Equatorial Guinea-1.pdf', 'countries\\\\Equatorial Guinea-2.pdf', 'countries\\\\Equatorial Guinea-3.pdf', 'countries\\\\Equatorial Guinea-4.pdf', 'countries\\\\Equatorial Guinea-5.pdf', 'countries\\\\Eritrea-1.pdf', 'countries\\\\Eritrea-2.pdf', 'countries\\\\Eritrea-3.pdf', 'countries\\\\Eritrea-4.pdf', 'countries\\\\Eritrea-5.pdf', 'countries\\\\Estonia-1.pdf', 'countries\\\\Estonia-2.pdf', 'countries\\\\Estonia-3.pdf', 'countries\\\\Estonia-4.pdf', 'countries\\\\Estonia-5.pdf', 'countries\\\\Eswatini-1.pdf', 'countries\\\\Eswatini-2.pdf', 'countries\\\\Eswatini-3.pdf', 'countries\\\\Eswatini-4.pdf', 'countries\\\\Eswatini-5.pdf', 'countries\\\\Ethiopia-1.pdf', 'countries\\\\Ethiopia-2.pdf', 'countries\\\\Ethiopia-3.pdf', 'countries\\\\Ethiopia-4.pdf', 'countries\\\\Ethiopia-5.pdf', 'countries\\\\Fiji-1.pdf', 'countries\\\\Fiji-2.pdf', 'countries\\\\Fiji-3.pdf', 'countries\\\\Fiji-4.pdf', 'countries\\\\Fiji-5.pdf', 'countries\\\\Finland-1.pdf', 'countries\\\\Finland-2.pdf', 'countries\\\\Finland-3.pdf', 'countries\\\\Finland-4.pdf', 'countries\\\\Finland-5.pdf', 'countries\\\\France-1.pdf', 'countries\\\\France-2.pdf', 'countries\\\\France-3.pdf', 'countries\\\\France-4.pdf', 'countries\\\\France-5.pdf', 'countries\\\\Gabon-1.pdf', 'countries\\\\Gabon-2.pdf', 'countries\\\\Gabon-3.pdf', 'countries\\\\Gabon-4.pdf', 'countries\\\\Gabon-5.pdf', 'countries\\\\Gambia-1.pdf', 'countries\\\\Gambia-2.pdf', 'countries\\\\Gambia-3.pdf', 'countries\\\\Gambia-4.pdf', 'countries\\\\Gambia-5.pdf', 'countries\\\\Georgia-1.pdf', 'countries\\\\Georgia-2.pdf', 'countries\\\\Georgia-3.pdf', 'countries\\\\Georgia-4.pdf', 'countries\\\\Georgia-5.pdf', 'countries\\\\Germany-1.pdf', 'countries\\\\Germany-2.pdf', 'countries\\\\Germany-3.pdf', 'countries\\\\Germany-4.pdf', 'countries\\\\Germany-5.pdf', 'countries\\\\Ghana-1.pdf', 'countries\\\\Ghana-2.pdf', 'countries\\\\Ghana-3.pdf', 'countries\\\\Ghana-4.pdf', 'countries\\\\Ghana-5.pdf', 'countries\\\\Greece-1.pdf', 'countries\\\\Greece-2.pdf', 'countries\\\\Greece-3.pdf', 'countries\\\\Greece-4.pdf', 'countries\\\\Greece-5.pdf', 'countries\\\\Grenada-1.pdf', 'countries\\\\Grenada-2.pdf', 'countries\\\\Grenada-3.pdf', 'countries\\\\Grenada-4.pdf', 'countries\\\\Grenada-5.pdf', 'countries\\\\Guatemala-1.pdf', 'countries\\\\Guatemala-2.pdf', 'countries\\\\Guatemala-3.pdf', 'countries\\\\Guatemala-4.pdf', 'countries\\\\Guatemala-5.pdf', 'countries\\\\Guinea-1.pdf', 'countries\\\\Guinea-2.pdf', 'countries\\\\Guinea-3.pdf', 'countries\\\\Guinea-4.pdf', 'countries\\\\Guinea-5.pdf', 'countries\\\\Guinea-Bissau-1.pdf', 'countries\\\\Guinea-Bissau-2.pdf', 'countries\\\\Guinea-Bissau-3.pdf', 'countries\\\\Guinea-Bissau-4.pdf', 'countries\\\\Guinea-Bissau-5.pdf', 'countries\\\\Guyana-1.pdf', 'countries\\\\Guyana-2.pdf', 'countries\\\\Guyana-3.pdf', 'countries\\\\Guyana-4.pdf', 'countries\\\\Guyana-5.pdf', 'countries\\\\Haiti-1.pdf', 'countries\\\\Haiti-2.pdf', 'countries\\\\Haiti-3.pdf', 'countries\\\\Haiti-4.pdf', 'countries\\\\Haiti-5.pdf', 'countries\\\\Honduras-1.pdf', 'countries\\\\Honduras-2.pdf', 'countries\\\\Honduras-3.pdf', 'countries\\\\Honduras-4.pdf', 'countries\\\\Honduras-5.pdf', 'countries\\\\Hungary-1.pdf', 'countries\\\\Hungary-2.pdf', 'countries\\\\Hungary-3.pdf', 'countries\\\\Hungary-4.pdf', 'countries\\\\Hungary-5.pdf', 'countries\\\\Iceland-1.pdf', 'countries\\\\Iceland-2.pdf', 'countries\\\\Iceland-3.pdf', 'countries\\\\Iceland-4.pdf', 'countries\\\\Iceland-5.pdf', 'countries\\\\India-1.pdf', 'countries\\\\India-2.pdf', 'countries\\\\India-3.pdf', 'countries\\\\India-4.pdf', 'countries\\\\India-5.pdf', 'countries\\\\Indonesia-1.pdf', 'countries\\\\Indonesia-2.pdf', 'countries\\\\Indonesia-3.pdf', 'countries\\\\Indonesia-4.pdf', 'countries\\\\Indonesia-5.pdf', 'countries\\\\Iran (Islamic Republic of)-1.pdf', 'countries\\\\Iran (Islamic Republic of)-2.pdf', 'countries\\\\Iran (Islamic Republic of)-3.pdf', 'countries\\\\Iran (Islamic Republic of)-4.pdf', 'countries\\\\Iran (Islamic Republic of)-5.pdf', 'countries\\\\Iraq-1.pdf', 'countries\\\\Iraq-2.pdf', 'countries\\\\Iraq-3.pdf', 'countries\\\\Iraq-4.pdf', 'countries\\\\Iraq-5.pdf', 'countries\\\\Ireland-1.pdf', 'countries\\\\Ireland-2.pdf', 'countries\\\\Ireland-3.pdf', 'countries\\\\Ireland-4.pdf', 'countries\\\\Ireland-5.pdf', 'countries\\\\Israel-1.pdf', 'countries\\\\Israel-2.pdf', 'countries\\\\Israel-3.pdf', 'countries\\\\Israel-4.pdf', 'countries\\\\Israel-5.pdf', 'countries\\\\Italy-1.pdf', 'countries\\\\Italy-2.pdf', 'countries\\\\Italy-3.pdf', 'countries\\\\Italy-4.pdf', 'countries\\\\Italy-5.pdf', 'countries\\\\Jamaica-1.pdf', 'countries\\\\Jamaica-2.pdf', 'countries\\\\Jamaica-3.pdf', 'countries\\\\Jamaica-4.pdf', 'countries\\\\Jamaica-5.pdf', 'countries\\\\Japan-1.pdf', 'countries\\\\Japan-2.pdf', 'countries\\\\Japan-3.pdf', 'countries\\\\Japan-4.pdf', 'countries\\\\Japan-5.pdf', 'countries\\\\Jordan-1.pdf', 'countries\\\\Jordan-2.pdf', 'countries\\\\Jordan-3.pdf', 'countries\\\\Jordan-4.pdf', 'countries\\\\Jordan-5.pdf', 'countries\\\\Kazakhstan-1.pdf', 'countries\\\\Kazakhstan-2.pdf', 'countries\\\\Kazakhstan-3.pdf', 'countries\\\\Kazakhstan-4.pdf', 'countries\\\\Kazakhstan-5.pdf', 'countries\\\\Kenya-1.pdf', 'countries\\\\Kenya-2.pdf', 'countries\\\\Kenya-3.pdf', 'countries\\\\Kenya-4.pdf', 'countries\\\\Kenya-5.pdf', 'countries\\\\Kiribati-1.pdf', 'countries\\\\Kiribati-2.pdf', 'countries\\\\Kiribati-3.pdf', 'countries\\\\Kiribati-4.pdf', 'countries\\\\Kiribati-5.pdf', 'countries\\\\Kuwait-1.pdf', 'countries\\\\Kuwait-2.pdf', 'countries\\\\Kuwait-3.pdf', 'countries\\\\Kuwait-4.pdf', 'countries\\\\Kuwait-5.pdf', 'countries\\\\Kyrgyzstan-1.pdf', 'countries\\\\Kyrgyzstan-2.pdf', 'countries\\\\Kyrgyzstan-3.pdf', 'countries\\\\Kyrgyzstan-4.pdf', 'countries\\\\Kyrgyzstan-5.pdf', \"countries\\\\Lao People's Democratic Republic-1.pdf\", \"countries\\\\Lao People's Democratic Republic-2.pdf\", \"countries\\\\Lao People's Democratic Republic-3.pdf\", \"countries\\\\Lao People's Democratic Republic-4.pdf\", \"countries\\\\Lao People's Democratic Republic-5.pdf\", 'countries\\\\Latvia-1.pdf', 'countries\\\\Latvia-2.pdf', 'countries\\\\Latvia-3.pdf', 'countries\\\\Latvia-4.pdf', 'countries\\\\Latvia-5.pdf', 'countries\\\\Lebanon-1.pdf', 'countries\\\\Lebanon-2.pdf', 'countries\\\\Lebanon-3.pdf', 'countries\\\\Lebanon-4.pdf', 'countries\\\\Lebanon-5.pdf', 'countries\\\\Lesotho-1.pdf', 'countries\\\\Lesotho-2.pdf', 'countries\\\\Lesotho-3.pdf', 'countries\\\\Lesotho-4.pdf', 'countries\\\\Lesotho-5.pdf', 'countries\\\\Liberia-1.pdf', 'countries\\\\Liberia-2.pdf', 'countries\\\\Liberia-3.pdf', 'countries\\\\Liberia-4.pdf', 'countries\\\\Liberia-5.pdf', 'countries\\\\Libya-1.pdf', 'countries\\\\Libya-2.pdf', 'countries\\\\Libya-3.pdf', 'countries\\\\Libya-4.pdf', 'countries\\\\Libya-5.pdf', 'countries\\\\Liechtenstein-1.pdf', 'countries\\\\Liechtenstein-2.pdf', 'countries\\\\Liechtenstein-3.pdf', 'countries\\\\Liechtenstein-4.pdf', 'countries\\\\Liechtenstein-5.pdf', 'countries\\\\Lithuania-1.pdf', 'countries\\\\Lithuania-2.pdf', 'countries\\\\Lithuania-3.pdf', 'countries\\\\Lithuania-4.pdf', 'countries\\\\Lithuania-5.pdf', 'countries\\\\Luxembourg-1.pdf', 'countries\\\\Luxembourg-2.pdf', 'countries\\\\Luxembourg-3.pdf', 'countries\\\\Luxembourg-4.pdf', 'countries\\\\Luxembourg-5.pdf', 'countries\\\\Madagascar-1.pdf', 'countries\\\\Madagascar-2.pdf', 'countries\\\\Madagascar-3.pdf', 'countries\\\\Madagascar-4.pdf', 'countries\\\\Madagascar-5.pdf', 'countries\\\\Malawi-1.pdf', 'countries\\\\Malawi-2.pdf', 'countries\\\\Malawi-3.pdf', 'countries\\\\Malawi-4.pdf', 'countries\\\\Malawi-5.pdf', 'countries\\\\Malaysia-1.pdf', 'countries\\\\Malaysia-2.pdf', 'countries\\\\Malaysia-3.pdf', 'countries\\\\Malaysia-4.pdf', 'countries\\\\Malaysia-5.pdf', 'countries\\\\Maldives-1.pdf', 'countries\\\\Maldives-2.pdf', 'countries\\\\Maldives-3.pdf', 'countries\\\\Maldives-4.pdf', 'countries\\\\Maldives-5.pdf', 'countries\\\\Mali-1.pdf', 'countries\\\\Mali-2.pdf', 'countries\\\\Mali-3.pdf', 'countries\\\\Mali-4.pdf', 'countries\\\\Mali-5.pdf', 'countries\\\\Malta-1.pdf', 'countries\\\\Malta-2.pdf', 'countries\\\\Malta-3.pdf', 'countries\\\\Malta-4.pdf', 'countries\\\\Malta-5.pdf', 'countries\\\\Marshall Islands-1.pdf', 'countries\\\\Marshall Islands-2.pdf', 'countries\\\\Marshall Islands-3.pdf', 'countries\\\\Marshall Islands-4.pdf', 'countries\\\\Marshall Islands-5.pdf', 'countries\\\\Mauritania-1.pdf', 'countries\\\\Mauritania-2.pdf', 'countries\\\\Mauritania-3.pdf', 'countries\\\\Mauritania-4.pdf', 'countries\\\\Mauritania-5.pdf', 'countries\\\\Mauritius-1.pdf', 'countries\\\\Mauritius-2.pdf', 'countries\\\\Mauritius-3.pdf', 'countries\\\\Mauritius-4.pdf', 'countries\\\\Mauritius-5.pdf', 'countries\\\\Mexico-1.pdf', 'countries\\\\Mexico-2.pdf', 'countries\\\\Mexico-3.pdf', 'countries\\\\Mexico-4.pdf', 'countries\\\\Mexico-5.pdf', 'countries\\\\Micronesia (Federated States of)-1.pdf', 'countries\\\\Micronesia (Federated States of)-2.pdf', 'countries\\\\Micronesia (Federated States of)-3.pdf', 'countries\\\\Micronesia (Federated States of)-4.pdf', 'countries\\\\Micronesia (Federated States of)-5.pdf', 'countries\\\\Monaco-1.pdf', 'countries\\\\Monaco-2.pdf', 'countries\\\\Monaco-3.pdf', 'countries\\\\Monaco-4.pdf', 'countries\\\\Monaco-5.pdf', 'countries\\\\Mongolia-1.pdf', 'countries\\\\Mongolia-2.pdf', 'countries\\\\Mongolia-3.pdf', 'countries\\\\Mongolia-4.pdf', 'countries\\\\Mongolia-5.pdf', 'countries\\\\Montenegro-1.pdf', 'countries\\\\Montenegro-2.pdf', 'countries\\\\Montenegro-3.pdf', 'countries\\\\Montenegro-4.pdf', 'countries\\\\Montenegro-5.pdf', 'countries\\\\Morocco-1.pdf', 'countries\\\\Morocco-2.pdf', 'countries\\\\Morocco-3.pdf', 'countries\\\\Morocco-4.pdf', 'countries\\\\Morocco-5.pdf', 'countries\\\\Mozambique-1.pdf', 'countries\\\\Mozambique-2.pdf', 'countries\\\\Mozambique-3.pdf', 'countries\\\\Mozambique-4.pdf', 'countries\\\\Mozambique-5.pdf', 'countries\\\\Myanmar-1.pdf', 'countries\\\\Myanmar-2.pdf', 'countries\\\\Myanmar-3.pdf', 'countries\\\\Myanmar-4.pdf', 'countries\\\\Myanmar-5.pdf', 'countries\\\\Namibia-1.pdf', 'countries\\\\Namibia-2.pdf', 'countries\\\\Namibia-3.pdf', 'countries\\\\Namibia-4.pdf', 'countries\\\\Namibia-5.pdf', 'countries\\\\Nauru-1.pdf', 'countries\\\\Nauru-2.pdf', 'countries\\\\Nauru-3.pdf', 'countries\\\\Nauru-4.pdf', 'countries\\\\Nauru-5.pdf', 'countries\\\\Nepal-1.pdf', 'countries\\\\Nepal-2.pdf', 'countries\\\\Nepal-3.pdf', 'countries\\\\Nepal-4.pdf', 'countries\\\\Nepal-5.pdf', 'countries\\\\Netherlands (Kingdom of the)-1.pdf', 'countries\\\\Netherlands (Kingdom of the)-2.pdf', 'countries\\\\Netherlands (Kingdom of the)-3.pdf', 'countries\\\\Netherlands (Kingdom of the)-4.pdf', 'countries\\\\Netherlands (Kingdom of the)-5.pdf', 'countries\\\\New Zealand-1.pdf', 'countries\\\\New Zealand-2.pdf', 'countries\\\\New Zealand-3.pdf', 'countries\\\\New Zealand-4.pdf', 'countries\\\\New Zealand-5.pdf', 'countries\\\\Nicaragua-1.pdf', 'countries\\\\Nicaragua-2.pdf', 'countries\\\\Nicaragua-3.pdf', 'countries\\\\Nicaragua-4.pdf', 'countries\\\\Nicaragua-5.pdf', 'countries\\\\Niger-1.pdf', 'countries\\\\Niger-2.pdf', 'countries\\\\Niger-3.pdf', 'countries\\\\Niger-4.pdf', 'countries\\\\Niger-5.pdf', 'countries\\\\Nigeria-1.pdf', 'countries\\\\Nigeria-2.pdf', 'countries\\\\Nigeria-3.pdf', 'countries\\\\Nigeria-4.pdf', 'countries\\\\Nigeria-5.pdf', 'countries\\\\North Macedonia-1.pdf', 'countries\\\\North Macedonia-2.pdf', 'countries\\\\North Macedonia-3.pdf', 'countries\\\\North Macedonia-4.pdf', 'countries\\\\North Macedonia-5.pdf', 'countries\\\\Norway-1.pdf', 'countries\\\\Norway-2.pdf', 'countries\\\\Norway-3.pdf', 'countries\\\\Norway-4.pdf', 'countries\\\\Norway-5.pdf', 'countries\\\\Oman-1.pdf', 'countries\\\\Oman-2.pdf', 'countries\\\\Oman-3.pdf', 'countries\\\\Oman-4.pdf', 'countries\\\\Oman-5.pdf', 'countries\\\\Pakistan-1.pdf', 'countries\\\\Pakistan-2.pdf', 'countries\\\\Pakistan-3.pdf', 'countries\\\\Pakistan-4.pdf', 'countries\\\\Pakistan-5.pdf', 'countries\\\\Palau-1.pdf', 'countries\\\\Palau-2.pdf', 'countries\\\\Palau-3.pdf', 'countries\\\\Palau-4.pdf', 'countries\\\\Palau-5.pdf', 'countries\\\\Panama-1.pdf', 'countries\\\\Panama-2.pdf', 'countries\\\\Panama-3.pdf', 'countries\\\\Panama-4.pdf', 'countries\\\\Panama-5.pdf', 'countries\\\\Papua New Guinea-1.pdf', 'countries\\\\Papua New Guinea-2.pdf', 'countries\\\\Papua New Guinea-3.pdf', 'countries\\\\Papua New Guinea-4.pdf', 'countries\\\\Papua New Guinea-5.pdf', 'countries\\\\Paraguay-1.pdf', 'countries\\\\Paraguay-2.pdf', 'countries\\\\Paraguay-3.pdf', 'countries\\\\Paraguay-4.pdf', 'countries\\\\Paraguay-5.pdf', 'countries\\\\Peru-1.pdf', 'countries\\\\Peru-2.pdf', 'countries\\\\Peru-3.pdf', 'countries\\\\Peru-4.pdf', 'countries\\\\Peru-5.pdf', 'countries\\\\Philippines-1.pdf', 'countries\\\\Philippines-2.pdf', 'countries\\\\Philippines-3.pdf', 'countries\\\\Philippines-4.pdf', 'countries\\\\Philippines-5.pdf', 'countries\\\\Poland-1.pdf', 'countries\\\\Poland-2.pdf', 'countries\\\\Poland-3.pdf', 'countries\\\\Poland-4.pdf', 'countries\\\\Poland-5.pdf', 'countries\\\\Portugal-1.pdf', 'countries\\\\Portugal-2.pdf', 'countries\\\\Portugal-3.pdf', 'countries\\\\Portugal-4.pdf', 'countries\\\\Portugal-5.pdf', 'countries\\\\Qatar-1.pdf', 'countries\\\\Qatar-2.pdf', 'countries\\\\Qatar-3.pdf', 'countries\\\\Qatar-4.pdf', 'countries\\\\Qatar-5.pdf', 'countries\\\\Republic of Korea-1.pdf', 'countries\\\\Republic of Korea-2.pdf', 'countries\\\\Republic of Korea-3.pdf', 'countries\\\\Republic of Korea-4.pdf', 'countries\\\\Republic of Korea-5.pdf', 'countries\\\\Republic of Moldova-1.pdf', 'countries\\\\Republic of Moldova-2.pdf', 'countries\\\\Republic of Moldova-3.pdf', 'countries\\\\Republic of Moldova-4.pdf', 'countries\\\\Republic of Moldova-5.pdf', 'countries\\\\Romania-1.pdf', 'countries\\\\Romania-2.pdf', 'countries\\\\Romania-3.pdf', 'countries\\\\Romania-4.pdf', 'countries\\\\Romania-5.pdf', 'countries\\\\Russian Federation-1.pdf', 'countries\\\\Russian Federation-2.pdf', 'countries\\\\Russian Federation-3.pdf', 'countries\\\\Russian Federation-4.pdf', 'countries\\\\Russian Federation-5.pdf', 'countries\\\\Rwanda-1.pdf', 'countries\\\\Rwanda-2.pdf', 'countries\\\\Rwanda-3.pdf', 'countries\\\\Rwanda-4.pdf', 'countries\\\\Rwanda-5.pdf', 'countries\\\\Saint Kitts and Nevis-1.pdf', 'countries\\\\Saint Kitts and Nevis-2.pdf', 'countries\\\\Saint Kitts and Nevis-3.pdf', 'countries\\\\Saint Kitts and Nevis-4.pdf', 'countries\\\\Saint Kitts and Nevis-5.pdf', 'countries\\\\Saint Lucia-1.pdf', 'countries\\\\Saint Lucia-2.pdf', 'countries\\\\Saint Lucia-3.pdf', 'countries\\\\Saint Lucia-4.pdf', 'countries\\\\Saint Lucia-5.pdf', 'countries\\\\Saint Vincent and the Grenadines-1.pdf', 'countries\\\\Saint Vincent and the Grenadines-2.pdf', 'countries\\\\Saint Vincent and the Grenadines-3.pdf', 'countries\\\\Saint Vincent and the Grenadines-4.pdf', 'countries\\\\Saint Vincent and the Grenadines-5.pdf', 'countries\\\\Samoa-1.pdf', 'countries\\\\Samoa-2.pdf', 'countries\\\\Samoa-3.pdf', 'countries\\\\Samoa-4.pdf', 'countries\\\\Samoa-5.pdf', 'countries\\\\San Marino-1.pdf', 'countries\\\\San Marino-2.pdf', 'countries\\\\San Marino-3.pdf', 'countries\\\\San Marino-4.pdf', 'countries\\\\San Marino-5.pdf', 'countries\\\\Sao Tome and Principe-1.pdf', 'countries\\\\Sao Tome and Principe-2.pdf', 'countries\\\\Sao Tome and Principe-3.pdf', 'countries\\\\Sao Tome and Principe-4.pdf', 'countries\\\\Sao Tome and Principe-5.pdf', 'countries\\\\Saudi Arabia-1.pdf', 'countries\\\\Saudi Arabia-2.pdf', 'countries\\\\Saudi Arabia-3.pdf', 'countries\\\\Saudi Arabia-4.pdf', 'countries\\\\Saudi Arabia-5.pdf', 'countries\\\\Senegal-1.pdf', 'countries\\\\Senegal-2.pdf', 'countries\\\\Senegal-3.pdf', 'countries\\\\Senegal-4.pdf', 'countries\\\\Senegal-5.pdf', 'countries\\\\Serbia-1.pdf', 'countries\\\\Serbia-2.pdf', 'countries\\\\Serbia-3.pdf', 'countries\\\\Serbia-4.pdf', 'countries\\\\Serbia-5.pdf', 'countries\\\\Seychelles-1.pdf', 'countries\\\\Seychelles-2.pdf', 'countries\\\\Seychelles-3.pdf', 'countries\\\\Seychelles-4.pdf', 'countries\\\\Seychelles-5.pdf', 'countries\\\\Sierra Leone-1.pdf', 'countries\\\\Sierra Leone-2.pdf', 'countries\\\\Sierra Leone-3.pdf', 'countries\\\\Sierra Leone-4.pdf', 'countries\\\\Sierra Leone-5.pdf', 'countries\\\\Singapore-1.pdf', 'countries\\\\Singapore-2.pdf', 'countries\\\\Singapore-3.pdf', 'countries\\\\Singapore-4.pdf', 'countries\\\\Singapore-5.pdf', 'countries\\\\Slovakia-1.pdf', 'countries\\\\Slovakia-2.pdf', 'countries\\\\Slovakia-3.pdf', 'countries\\\\Slovakia-4.pdf', 'countries\\\\Slovakia-5.pdf', 'countries\\\\Slovenia-1.pdf', 'countries\\\\Slovenia-2.pdf', 'countries\\\\Slovenia-3.pdf', 'countries\\\\Slovenia-4.pdf', 'countries\\\\Slovenia-5.pdf', 'countries\\\\Solomon Islands-1.pdf', 'countries\\\\Solomon Islands-2.pdf', 'countries\\\\Solomon Islands-3.pdf', 'countries\\\\Solomon Islands-4.pdf', 'countries\\\\Solomon Islands-5.pdf', 'countries\\\\Somalia-1.pdf', 'countries\\\\Somalia-2.pdf', 'countries\\\\Somalia-3.pdf', 'countries\\\\Somalia-4.pdf', 'countries\\\\Somalia-5.pdf', 'countries\\\\South Africa-1.pdf', 'countries\\\\South Africa-2.pdf', 'countries\\\\South Africa-3.pdf', 'countries\\\\South Africa-4.pdf', 'countries\\\\South Africa-5.pdf', 'countries\\\\South Sudan-1.pdf', 'countries\\\\South Sudan-2.pdf', 'countries\\\\South Sudan-3.pdf', 'countries\\\\South Sudan-4.pdf', 'countries\\\\South Sudan-5.pdf', 'countries\\\\Spain-1.pdf', 'countries\\\\Spain-2.pdf', 'countries\\\\Spain-3.pdf', 'countries\\\\Spain-4.pdf', 'countries\\\\Spain-5.pdf', 'countries\\\\Sri Lanka-1.pdf', 'countries\\\\Sri Lanka-2.pdf', 'countries\\\\Sri Lanka-3.pdf', 'countries\\\\Sri Lanka-4.pdf', 'countries\\\\Sri Lanka-5.pdf', 'countries\\\\Sudan-1.pdf', 'countries\\\\Sudan-2.pdf', 'countries\\\\Sudan-3.pdf', 'countries\\\\Sudan-4.pdf', 'countries\\\\Sudan-5.pdf', 'countries\\\\Suriname-1.pdf', 'countries\\\\Suriname-2.pdf', 'countries\\\\Suriname-3.pdf', 'countries\\\\Suriname-4.pdf', 'countries\\\\Suriname-5.pdf', 'countries\\\\Sweden-1.pdf', 'countries\\\\Sweden-2.pdf', 'countries\\\\Sweden-3.pdf', 'countries\\\\Sweden-4.pdf', 'countries\\\\Sweden-5.pdf', 'countries\\\\Switzerland-1.pdf', 'countries\\\\Switzerland-2.pdf', 'countries\\\\Switzerland-3.pdf', 'countries\\\\Switzerland-4.pdf', 'countries\\\\Switzerland-5.pdf', 'countries\\\\Syrian Arab Republic-1.pdf', 'countries\\\\Syrian Arab Republic-2.pdf', 'countries\\\\Syrian Arab Republic-3.pdf', 'countries\\\\Syrian Arab Republic-4.pdf', 'countries\\\\Syrian Arab Republic-5.pdf', 'countries\\\\Tajikistan-1.pdf', 'countries\\\\Tajikistan-2.pdf', 'countries\\\\Tajikistan-3.pdf', 'countries\\\\Tajikistan-4.pdf', 'countries\\\\Tajikistan-5.pdf', 'countries\\\\Thailand-1.pdf', 'countries\\\\Thailand-2.pdf', 'countries\\\\Thailand-3.pdf', 'countries\\\\Thailand-4.pdf', 'countries\\\\Thailand-5.pdf', 'countries\\\\Timor-Leste-1.pdf', 'countries\\\\Timor-Leste-2.pdf', 'countries\\\\Timor-Leste-3.pdf', 'countries\\\\Timor-Leste-4.pdf', 'countries\\\\Timor-Leste-5.pdf', 'countries\\\\Togo-1.pdf', 'countries\\\\Togo-2.pdf', 'countries\\\\Togo-3.pdf', 'countries\\\\Togo-4.pdf', 'countries\\\\Togo-5.pdf', 'countries\\\\Tonga-1.pdf', 'countries\\\\Tonga-2.pdf', 'countries\\\\Tonga-3.pdf', 'countries\\\\Tonga-4.pdf', 'countries\\\\Tonga-5.pdf', 'countries\\\\Trinidad and Tobago-1.pdf', 'countries\\\\Trinidad and Tobago-2.pdf', 'countries\\\\Trinidad and Tobago-3.pdf', 'countries\\\\Trinidad and Tobago-4.pdf', 'countries\\\\Trinidad and Tobago-5.pdf', 'countries\\\\Tunisia-1.pdf', 'countries\\\\Tunisia-2.pdf', 'countries\\\\Tunisia-3.pdf', 'countries\\\\Tunisia-4.pdf', 'countries\\\\Tunisia-5.pdf', 'countries\\\\Turkmenistan-1.pdf', 'countries\\\\Turkmenistan-2.pdf', 'countries\\\\Turkmenistan-3.pdf', 'countries\\\\Turkmenistan-4.pdf', 'countries\\\\Turkmenistan-5.pdf', 'countries\\\\Tuvalu-1.pdf', 'countries\\\\Tuvalu-2.pdf', 'countries\\\\Tuvalu-3.pdf', 'countries\\\\Tuvalu-4.pdf', 'countries\\\\Tuvalu-5.pdf', 'countries\\\\Türkiye-1.pdf', 'countries\\\\Türkiye-2.pdf', 'countries\\\\Türkiye-3.pdf', 'countries\\\\Türkiye-4.pdf', 'countries\\\\Türkiye-5.pdf', 'countries\\\\Uganda-1.pdf', 'countries\\\\Uganda-2.pdf', 'countries\\\\Uganda-3.pdf', 'countries\\\\Uganda-4.pdf', 'countries\\\\Uganda-5.pdf', 'countries\\\\Ukraine-1.pdf', 'countries\\\\Ukraine-2.pdf', 'countries\\\\Ukraine-3.pdf', 'countries\\\\Ukraine-4.pdf', 'countries\\\\Ukraine-5.pdf', 'countries\\\\United Arab Emirates-1.pdf', 'countries\\\\United Arab Emirates-2.pdf', 'countries\\\\United Arab Emirates-3.pdf', 'countries\\\\United Arab Emirates-4.pdf', 'countries\\\\United Arab Emirates-5.pdf', 'countries\\\\United Kingdom-1.pdf', 'countries\\\\United Kingdom-2.pdf', 'countries\\\\United Kingdom-3.pdf', 'countries\\\\United Kingdom-4.pdf', 'countries\\\\United Kingdom-5.pdf', 'countries\\\\United Republic of Tanzania-1.pdf', 'countries\\\\United Republic of Tanzania-2.pdf', 'countries\\\\United Republic of Tanzania-3.pdf', 'countries\\\\United Republic of Tanzania-4.pdf', 'countries\\\\United Republic of Tanzania-5.pdf', 'countries\\\\United States-1.pdf', 'countries\\\\United States-2.pdf', 'countries\\\\United States-3.pdf', 'countries\\\\United States-4.pdf', 'countries\\\\United States-5.pdf', 'countries\\\\Uruguay-1.pdf', 'countries\\\\Uruguay-2.pdf', 'countries\\\\Uruguay-3.pdf', 'countries\\\\Uruguay-4.pdf', 'countries\\\\Uruguay-5.pdf', 'countries\\\\Uzbekistan-1.pdf', 'countries\\\\Uzbekistan-2.pdf', 'countries\\\\Uzbekistan-3.pdf', 'countries\\\\Uzbekistan-4.pdf', 'countries\\\\Uzbekistan-5.pdf', 'countries\\\\Vanuatu-1.pdf', 'countries\\\\Vanuatu-2.pdf', 'countries\\\\Vanuatu-3.pdf', 'countries\\\\Vanuatu-4.pdf', 'countries\\\\Vanuatu-5.pdf', 'countries\\\\Venezuela (Bolivarian Republic of)-1.pdf', 'countries\\\\Venezuela (Bolivarian Republic of)-2.pdf', 'countries\\\\Venezuela (Bolivarian Republic of)-3.pdf', 'countries\\\\Venezuela (Bolivarian Republic of)-4.pdf', 'countries\\\\Venezuela (Bolivarian Republic of)-5.pdf', 'countries\\\\Viet Nam-1.pdf', 'countries\\\\Viet Nam-2.pdf', 'countries\\\\Viet Nam-3.pdf', 'countries\\\\Viet Nam-4.pdf', 'countries\\\\Viet Nam-5.pdf', 'countries\\\\Yemen-1.pdf', 'countries\\\\Yemen-2.pdf', 'countries\\\\Yemen-3.pdf', 'countries\\\\Yemen-4.pdf', 'countries\\\\Yemen-5.pdf', 'countries\\\\Zambia-1.pdf', 'countries\\\\Zambia-2.pdf', 'countries\\\\Zambia-3.pdf', 'countries\\\\Zambia-4.pdf', 'countries\\\\Zambia-5.pdf', 'countries\\\\Zimbabwe-1.pdf', 'countries\\\\Zimbabwe-2.pdf', 'countries\\\\Zimbabwe-3.pdf', 'countries\\\\Zimbabwe-4.pdf', 'countries\\\\Zimbabwe-5.pdf']\n"
     ]
    }
   ],
   "source": [
    "import glob\n",
    "\n",
    "pdf_files = glob.glob('countries/*.pdf')\n",
    "print(pdf_files)"
   ]
  },
  {
   "cell_type": "code",
   "execution_count": 47,
   "id": "ff2bc9f0",
   "metadata": {},
   "outputs": [
    {
     "name": "stdout",
     "output_type": "stream",
     "text": [
      "[]\n"
     ]
    }
   ],
   "source": [
    "import os\n",
    "\n",
    "# Extract country names from file paths (assuming filenames are like 'country-1.pdf')\n",
    "\n",
    "invalid_countries = []\n",
    "for file in pdf_files:\n",
    "    country = os.path.splitext(os.path.basename(file))[0]\n",
    "    if not country.endswith(('-1', '-2', '-3', '-4', '-5')):\n",
    "        invalid_countries.append(country)\n",
    "\n",
    "print(invalid_countries)"
   ]
  },
  {
   "cell_type": "code",
   "execution_count": 48,
   "id": "d4fbe4d1",
   "metadata": {},
   "outputs": [
    {
     "name": "stdout",
     "output_type": "stream",
     "text": [
      "Number of unique base file names: 193\n"
     ]
    },
    {
     "data": {
      "application/vnd.microsoft.datawrangler.viewer.v0+json": {
       "columns": [
        {
         "name": "index",
         "rawType": "int64",
         "type": "integer"
        },
        {
         "name": "country",
         "rawType": "object",
         "type": "string"
        }
       ],
       "ref": "943a6151-6fd2-439c-af1b-8b7011d2233e",
       "rows": [
        [
         "0",
         "Afghanistan"
        ],
        [
         "1",
         "Albania"
        ],
        [
         "2",
         "Algeria"
        ],
        [
         "3",
         "Andorra"
        ],
        [
         "4",
         "Angola"
        ],
        [
         "5",
         "Antigua and Barbuda"
        ],
        [
         "6",
         "Argentina"
        ],
        [
         "7",
         "Armenia"
        ],
        [
         "8",
         "Australia"
        ],
        [
         "9",
         "Austria"
        ],
        [
         "10",
         "Azerbaijan"
        ],
        [
         "11",
         "Bahamas"
        ],
        [
         "12",
         "Bahrain"
        ],
        [
         "13",
         "Bangladesh"
        ],
        [
         "14",
         "Barbados"
        ],
        [
         "15",
         "Belarus"
        ],
        [
         "16",
         "Belgium"
        ],
        [
         "17",
         "Belize"
        ],
        [
         "18",
         "Benin"
        ],
        [
         "19",
         "Bhutan"
        ],
        [
         "20",
         "Bolivia (Plurinational State of)"
        ],
        [
         "21",
         "Bosnia and Herzegovina"
        ],
        [
         "22",
         "Botswana"
        ],
        [
         "23",
         "Brazil"
        ],
        [
         "24",
         "Brunei Darussalam"
        ],
        [
         "25",
         "Bulgaria"
        ],
        [
         "26",
         "Burkina Faso"
        ],
        [
         "27",
         "Burundi"
        ],
        [
         "28",
         "Cabo Verde"
        ],
        [
         "29",
         "Cambodia"
        ],
        [
         "30",
         "Cameroon"
        ],
        [
         "31",
         "Canada"
        ],
        [
         "32",
         "Central African Republic"
        ],
        [
         "33",
         "Chad"
        ],
        [
         "34",
         "Chile"
        ],
        [
         "35",
         "China"
        ],
        [
         "36",
         "Colombia"
        ],
        [
         "37",
         "Comoros"
        ],
        [
         "38",
         "Congo"
        ],
        [
         "39",
         "Costa Rica"
        ],
        [
         "40",
         "Croatia"
        ],
        [
         "41",
         "Cuba"
        ],
        [
         "42",
         "Cyprus"
        ],
        [
         "43",
         "Czechia"
        ],
        [
         "44",
         "Côte d'Ivoire"
        ],
        [
         "45",
         "Democratic People's Republic of Korea"
        ],
        [
         "46",
         "Democratic Republic of the Congo"
        ],
        [
         "47",
         "Denmark"
        ],
        [
         "48",
         "Djibouti"
        ],
        [
         "49",
         "Dominica"
        ]
       ],
       "shape": {
        "columns": 1,
        "rows": 193
       }
      },
      "text/html": [
       "<div>\n",
       "<style scoped>\n",
       "    .dataframe tbody tr th:only-of-type {\n",
       "        vertical-align: middle;\n",
       "    }\n",
       "\n",
       "    .dataframe tbody tr th {\n",
       "        vertical-align: top;\n",
       "    }\n",
       "\n",
       "    .dataframe thead th {\n",
       "        text-align: right;\n",
       "    }\n",
       "</style>\n",
       "<table border=\"1\" class=\"dataframe\">\n",
       "  <thead>\n",
       "    <tr style=\"text-align: right;\">\n",
       "      <th></th>\n",
       "      <th>country</th>\n",
       "    </tr>\n",
       "  </thead>\n",
       "  <tbody>\n",
       "    <tr>\n",
       "      <th>0</th>\n",
       "      <td>Afghanistan</td>\n",
       "    </tr>\n",
       "    <tr>\n",
       "      <th>1</th>\n",
       "      <td>Albania</td>\n",
       "    </tr>\n",
       "    <tr>\n",
       "      <th>2</th>\n",
       "      <td>Algeria</td>\n",
       "    </tr>\n",
       "    <tr>\n",
       "      <th>3</th>\n",
       "      <td>Andorra</td>\n",
       "    </tr>\n",
       "    <tr>\n",
       "      <th>4</th>\n",
       "      <td>Angola</td>\n",
       "    </tr>\n",
       "    <tr>\n",
       "      <th>...</th>\n",
       "      <td>...</td>\n",
       "    </tr>\n",
       "    <tr>\n",
       "      <th>188</th>\n",
       "      <td>Venezuela (Bolivarian Republic of)</td>\n",
       "    </tr>\n",
       "    <tr>\n",
       "      <th>189</th>\n",
       "      <td>Viet Nam</td>\n",
       "    </tr>\n",
       "    <tr>\n",
       "      <th>190</th>\n",
       "      <td>Yemen</td>\n",
       "    </tr>\n",
       "    <tr>\n",
       "      <th>191</th>\n",
       "      <td>Zambia</td>\n",
       "    </tr>\n",
       "    <tr>\n",
       "      <th>192</th>\n",
       "      <td>Zimbabwe</td>\n",
       "    </tr>\n",
       "  </tbody>\n",
       "</table>\n",
       "<p>193 rows × 1 columns</p>\n",
       "</div>"
      ],
      "text/plain": [
       "                                country\n",
       "0                           Afghanistan\n",
       "1                               Albania\n",
       "2                               Algeria\n",
       "3                               Andorra\n",
       "4                                Angola\n",
       "..                                  ...\n",
       "188  Venezuela (Bolivarian Republic of)\n",
       "189                            Viet Nam\n",
       "190                               Yemen\n",
       "191                              Zambia\n",
       "192                            Zimbabwe\n",
       "\n",
       "[193 rows x 1 columns]"
      ]
     },
     "execution_count": 48,
     "metadata": {},
     "output_type": "execute_result"
    }
   ],
   "source": [
    "import re\n",
    "import pandas as pd\n",
    "\n",
    "# Extract unique base file names by removing the trailing '-1', '-2', '-3', '-4', or '-5' only if present at the end\n",
    "\n",
    "base_names = set()\n",
    "pattern = re.compile(r'^(.*)-[1-5]$')\n",
    "for f in pdf_files:\n",
    "    name = os.path.splitext(os.path.basename(f))[0]\n",
    "    match = pattern.match(name)\n",
    "    if match:\n",
    "        base_names.add(match.group(1))\n",
    "    else:\n",
    "        base_names.add(name)\n",
    "\n",
    "print(f\"Number of unique base file names: {len(base_names)}\")\n",
    "name_df = pd.DataFrame(list(base_names), columns=['country']).sort_values(by='country').reset_index(drop=True)\n",
    "name_df"
   ]
  },
  {
   "cell_type": "code",
   "execution_count": 49,
   "id": "eea05dae",
   "metadata": {},
   "outputs": [
    {
     "name": "stdout",
     "output_type": "stream",
     "text": [
      "Countries in CSV but not in PDF files: set()\n",
      " not in CSV: set()\n"
     ]
    }
   ],
   "source": [
    "# Read the CSV file\n",
    "auths_df = pd.read_csv('member_state_auths_2025-03-14.csv')\n",
    "\n",
    "# Compare 'Member State' column with 'country' column in name_df\n",
    "csv_countries = set(auths_df['Member State'].str.strip())\n",
    "pdf_countries = set(name_df['country'].str.strip())\n",
    "\n",
    "# Find differences\n",
    "in_csv_not_pdf = csv_countries - pdf_countries\n",
    "in_pdf_not_csv = pdf_countries - csv_countries\n",
    "\n",
    "print(\"Countries in CSV but not in PDF files:\", in_csv_not_pdf)\n",
    "print(\" not in CSV:\", in_pdf_not_csv)"
   ]
  },
  {
   "cell_type": "code",
   "execution_count": 50,
   "id": "d69123c5",
   "metadata": {},
   "outputs": [
    {
     "name": "stdout",
     "output_type": "stream",
     "text": [
      "Number of countries: 193\n"
     ]
    }
   ],
   "source": [
    "# Extract country names without the '-1', '-2', etc. suffix\n",
    "country_names = set(os.path.splitext(os.path.basename(f))[0].rsplit('-', 1)[0] for f in pdf_files)\n",
    "print(f\"Number of countries: {len(country_names)}\")"
   ]
  },
  {
   "cell_type": "code",
   "execution_count": 51,
   "id": "1cdda964",
   "metadata": {},
   "outputs": [
    {
     "name": "stdout",
     "output_type": "stream",
     "text": [
      "-1: 193\n",
      "-2: 193\n",
      "-3: 193\n",
      "-4: 193\n",
      "-5: 193\n"
     ]
    }
   ],
   "source": [
    "from collections import Counter\n",
    "\n",
    "# Count the number of files ending with each suffix\n",
    "suffix_counts = Counter(os.path.splitext(os.path.basename(f))[0].rsplit('-', 1)[-1] for f in pdf_files if '-' in os.path.splitext(os.path.basename(f))[0])\n",
    "\n",
    "for suffix in ['1', '2', '3', '4', '5']:\n",
    "    print(f\"-{suffix}: {suffix_counts[suffix]}\")"
   ]
  },
  {
   "cell_type": "code",
   "execution_count": 52,
   "id": "a1a3d1aa",
   "metadata": {},
   "outputs": [
    {
     "name": "stdout",
     "output_type": "stream",
     "text": [
      "Countries with only '-1' PDF and none of the others: set()\n"
     ]
    }
   ],
   "source": [
    "# Find countries that have only the '-1' PDF and none of '-2', '-3', '-4', '-5'\n",
    "group_1 = set(os.path.splitext(os.path.basename(f))[0].rsplit('-', 1)[0] for f in pdf_files if f.endswith('-1.pdf'))\n",
    "group_2 = set(os.path.splitext(os.path.basename(f))[0].rsplit('-', 1)[0] for f in pdf_files if any(f.endswith(f'-{n}.pdf') for n in ['2', '3', '4', '5']))\n",
    "\n",
    "only_1 = group_1 - group_2\n",
    "print(\"Countries with only '-1' PDF and none of the others:\", only_1)"
   ]
  },
  {
   "cell_type": "code",
   "execution_count": 53,
   "id": "044eb887",
   "metadata": {},
   "outputs": [],
   "source": [
    "import shutil\n",
    "\n",
    "# Create the target directories if they don't exist\n",
    "for i in range(1, 6):\n",
    "    os.makedirs(f'countries{i}', exist_ok=True)\n",
    "\n",
    "# Copy each file to the corresponding countriesN directory and remove the suffix in the copy\n",
    "for file in pdf_files:\n",
    "    base = os.path.basename(file)\n",
    "    name, ext = os.path.splitext(base)\n",
    "    if '-' in name:\n",
    "        country, suffix = name.rsplit('-', 1)\n",
    "        if suffix in {'1', '2', '3', '4', '5'}:\n",
    "            target_dir = f'countries{suffix}'\n",
    "            target_path = os.path.join(target_dir, f\"{country}{ext}\")\n",
    "            shutil.copyfile(file, target_path)"
   ]
  },
  {
   "cell_type": "code",
   "execution_count": null,
   "id": "c3e1a031",
   "metadata": {},
   "outputs": [],
   "source": []
  },
  {
   "cell_type": "code",
   "execution_count": null,
   "id": "20b2666b",
   "metadata": {},
   "outputs": [],
   "source": []
  }
 ],
 "metadata": {
  "kernelspec": {
   "display_name": "base",
   "language": "python",
   "name": "python3"
  },
  "language_info": {
   "codemirror_mode": {
    "name": "ipython",
    "version": 3
   },
   "file_extension": ".py",
   "mimetype": "text/x-python",
   "name": "python",
   "nbconvert_exporter": "python",
   "pygments_lexer": "ipython3",
   "version": "3.12.7"
  }
 },
 "nbformat": 4,
 "nbformat_minor": 5
}
