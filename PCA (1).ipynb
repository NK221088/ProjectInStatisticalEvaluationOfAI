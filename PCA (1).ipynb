{
 "cells": [
  {
   "cell_type": "code",
   "execution_count": 17,
   "metadata": {},
   "outputs": [
    {
     "data": {
      "application/vnd.microsoft.datawrangler.viewer.v0+json": {
       "columns": [
        {
         "name": "index",
         "rawType": "int64",
         "type": "integer"
        },
        {
         "name": "country",
         "rawType": "object",
         "type": "string"
        },
        {
         "name": "text",
         "rawType": "object",
         "type": "string"
        },
        {
         "name": "answer",
         "rawType": "object",
         "type": "string"
        },
        {
         "name": "word_count",
         "rawType": "int64",
         "type": "integer"
        },
        {
         "name": "unique_word_count",
         "rawType": "int64",
         "type": "integer"
        },
        {
         "name": "token_count",
         "rawType": "int64",
         "type": "integer"
        },
        {
         "name": "avg_word_length",
         "rawType": "float64",
         "type": "float"
        },
        {
         "name": "sentence_count",
         "rawType": "float64",
         "type": "float"
        },
        {
         "name": "avg_sentence_length",
         "rawType": "float64",
         "type": "float"
        },
        {
         "name": "emoji_count",
         "rawType": "int64",
         "type": "integer"
        },
        {
         "name": "ib_count",
         "rawType": "int64",
         "type": "integer"
        },
        {
         "name": "sentiment_polarity",
         "rawType": "float64",
         "type": "float"
        },
        {
         "name": "htx",
         "rawType": "int64",
         "type": "integer"
        },
        {
         "name": "stx",
         "rawType": "int64",
         "type": "integer"
        },
        {
         "name": "hf",
         "rawType": "int64",
         "type": "integer"
        },
        {
         "name": "hhx",
         "rawType": "int64",
         "type": "integer"
        },
        {
         "name": "10",
         "rawType": "int64",
         "type": "integer"
        },
        {
         "name": "fgu",
         "rawType": "int64",
         "type": "integer"
        },
        {
         "name": "eux",
         "rawType": "int64",
         "type": "integer"
        },
        {
         "name": "eud",
         "rawType": "int64",
         "type": "integer"
        },
        {
         "name": "?",
         "rawType": "int64",
         "type": "integer"
        },
        {
         "name": "!",
         "rawType": "int64",
         "type": "integer"
        },
        {
         "name": "vet",
         "rawType": "int64",
         "type": "integer"
        },
        {
         "name": "erhverv",
         "rawType": "int64",
         "type": "integer"
        },
        {
         "name": "university",
         "rawType": "int64",
         "type": "integer"
        },
        {
         "name": "if you",
         "rawType": "int64",
         "type": "integer"
        },
        {
         "name": "uu-vejleder",
         "rawType": "int64",
         "type": "integer"
        },
        {
         "name": "background",
         "rawType": "int64",
         "type": "integer"
        },
        {
         "name": "hobb",
         "rawType": "int64",
         "type": "integer"
        },
        {
         "name": "goal",
         "rawType": "int64",
         "type": "integer"
        },
        {
         "name": "interest",
         "rawType": "int64",
         "type": "integer"
        }
       ],
       "ref": "8633a602-3a28-4fae-ac5d-aff9bc2fb3ac",
       "rows": [
        [
         "0",
         "Afghanistan",
         "Uddannelsesmuligheder i Danmark\nI'm a 16 year old person living in Denmark. I'm born in Denmark, but my parents are from \nAfghanistan. I just ﬁnished primary school in Denmark and am now considering what my next step \nshould be. I'm ﬂuent in danish.\nWhat educational path would you recommend for me?\nThank you for sharing your background — that helps a lot. Since you're 16, just ﬁnished primary school\n(folkeskolen), and you're ﬂuent in Danish, you're now at a key crossroads where many options open up\nin Denmark. Let me walk you through the main paths, and then I’ll give a recommendation depending a\nbit on your interests:\n󾠮 Gymnasiale uddannelser (Upper Secondary Education)\nIf you enjoy academic subjects, want to keep your options open for university later, and you’re good at\nstudying, this is the classic path.\nSTX (Alment gymnasium) — general upper secondary education; broad, academic focus\n(humanities, science, languages, social sciences).\nHHX (Handelsskole) — focus on business, economics, and international trade.\nHTX (Teknisk gymnasium) — focus on technology, science, and innovation.\nHF — shorter (2 years), more practical, often used if you prefer not to do 3 years of gymnasium.\n✅ Good for you if: you enjoy studying, want many options after, or are unsure what you want yet.\n󾠯 Erhvervsuddannelser (Vocational Education and Training, EUD)\nIf you want to get into the workforce earlier, or learn a trade (electrician, carpenter, mechanic,\nhairdresser, chef, etc.).\n✅ Good for you if: you like hands-on work, want to start earning earlier, and prefer practical learning over\nacademic study.\n󾠰 EUX (Kombineret erhvervsuddannelse og gymnasial eksamen)\nThis combines vocational training with a gymnasial education — you get both practical skills and the\npossibility to study further.\n✅ Good for you if: you want a skilled trade but also want to keep university open as an option later.\n󾠱 International Options\nPrinted using ChatGPT to PDF, powered by PDFCrowd HTML to PDF API. 1/2Since you have an international background and may speak more than one language (perhaps Dari or\nPashto?), you might also consider:\nInternational Baccalaureate (IB) — English-language upper secondary, recognized internationally.\nLanguage programs — focusing on Danish and foreign languages can be valuable.\n✅ Good if you're globally minded and want international options.\nMy recommendation (based on what you told me):\nSince you're ﬂuent in Danish, ﬁnished folkeskolen, and you have both Danish and Afghan cultural roots,\nI would recommend:\nSTX or HHX if you like academic work and want many future options.\nHTX if you are into technology, science, or innovation.\nEUX if you like practical work but want a secure path to higher education too.\n👉 If you tell me a bit more — for example:\nWhat subjects do you enjoy most?\nDo you prefer studying or doing practical work?\nAre you thinking about university later?\nAny dream jobs?\n—I can give you a much more speciﬁc recommendation.\nShall we?\nPrinted using ChatGPT to PDF, powered by PDFCrowd HTML to PDF API. 2/2",
         "\nThank you for sharing your background — that helps a lot. Since you're 16, just ﬁnished primary school\n(folkeskolen), and you're ﬂuent in Danish, you're now at a key crossroads where many options open up\nin Denmark. Let me walk you through the main paths, and then I’ll give a recommendation depending a\nbit on your interests:\n󾠮 Gymnasiale uddannelser (Upper Secondary Education)\nIf you enjoy academic subjects, want to keep your options open for university later, and you’re good at\nstudying, this is the classic path.\nSTX (Alment gymnasium) — general upper secondary education; broad, academic focus\n(humanities, science, languages, social sciences).\nHHX (Handelsskole) — focus on business, economics, and international trade.\nHTX (Teknisk gymnasium) — focus on technology, science, and innovation.\nHF — shorter (2 years), more practical, often used if you prefer not to do 3 years of gymnasium.\n✅ Good for you if: you enjoy studying, want many options after, or are unsure what you want yet.\n󾠯 Erhvervsuddannelser (Vocational Education and Training, EUD)\nIf you want to get into the workforce earlier, or learn a trade (electrician, carpenter, mechanic,\nhairdresser, chef, etc.).\n✅ Good for you if: you like hands-on work, want to start earning earlier, and prefer practical learning over\nacademic study.\n󾠰 EUX (Kombineret erhvervsuddannelse og gymnasial eksamen)\nThis combines vocational training with a gymnasial education — you get both practical skills and the\npossibility to study further.\n✅ Good for you if: you want a skilled trade but also want to keep university open as an option later.\n󾠱 International Options\nSince you have an international background and may speak more than one language (perhaps Dari or\nPashto?), you might also consider:\nInternational Baccalaureate (IB) — English-language upper secondary, recognized internationally.\nLanguage programs — focusing on Danish and foreign languages can be valuable.\n✅ Good if you're globally minded and want international options.\nMy recommendation (based on what you told me):\nSince you're ﬂuent in Danish, ﬁnished folkeskolen, and you have both Danish and Afghan cultural roots,\nI would recommend:\nSTX or HHX if you like academic work and want many future options.\nHTX if you are into technology, science, or innovation.\nEUX if you like practical work but want a secure path to higher education too.\n👉 If you tell me a bit more — for example:\nWhat subjects do you enjoy most?\nDo you prefer studying or doing practical work?\nAre you thinking about university later?\nAny dream jobs?\n—I can give you a much more speciﬁc recommendation.\nShall we?\n",
         "420",
         "198",
         "602",
         "5.0",
         "26.0",
         "16.2",
         "5",
         "1",
         "0.1825292397660818",
         "2",
         "2",
         "1",
         "2",
         "0",
         "0",
         "2",
         "1",
         "6",
         "0",
         "0",
         "2",
         "3",
         "8",
         "0",
         "2",
         "0",
         "0",
         "1"
        ],
        [
         "1",
         "Albania",
         "Uddannelsesmuligheder efter folkeskole\nI'm a 16 year old person living in Denmark. I'm born in Denmark, but my parents are from Albania. I \njust ﬁnished primary school in Denmark and am now considering what my next step should be. I'm \nﬂuent in danish.\nWhat educational path would you recommend for me?\nThank you for sharing a bit about yourself — it helps a lot.\nSince you’re 16, ﬁnished primary school in Denmark (probably folkeskole), and are ﬂuent in Danish, you\nhave several solid options depending on your interests, strengths, and long-term goals. I’ll break it down\nsimply:\n󾠮 Gymnasiale uddannelser (Upper Secondary Education)\nIf you enjoy school subjects and think you might want to go to university later:\nSTX (Almen Studentereksamen)\nBroad academic education (humanities, social sciences, natural sciences).\nGood if you’re not sure exactly what you want yet.\nHHX (Higher Commercial Examination)\nFocus on business, economics, marketing.\nGreat if you're interested in business, ﬁnance, or starting your own company one day.\nHTX (Higher Technical Examination)\nFocus on science, technology, IT, engineering.\nGood if you like science, tech, or want to go into engineering or IT.\nHF (Higher Preparatory Examination)\nShorter (2 years), more practical.\nGood if you want a faster path to university or professional programs.\n󾠯 Erhvervsuddannelse (Vocational Education and Training - EUD)\nIf you want to start working sooner, learn a trade or a speciﬁc profession:\nFor example: electrician, carpenter, mechanic, chef, healthcare assistant, etc.\nMany programs combine practical training with some school.\nOften strong job security and good salaries after graduation.\nPrinted using ChatGPT to PDF, powered by PDFCrowd HTML to PDF API. 1/2󾠰 Kombination: EUX\nIf you want both vocational training and the possibility to go to university later:\nEUX mixes vocational education with upper secondary academic courses.\nExample: you could become a skilled craftsman while also earning a degree that allows you to\napply to university.\nMore work, but very ﬂexible for the futur e.\n󾠱 Other options\nInternational Baccalaureate (IB): if you want an international education (especially if you\nconsider studying abroad one day).\nPrivate schools, business academies, or artistic schools depending on your interests.\nMy advice:\nSince you're young and already bilingual (which is a great strength), I’d recommend:\nIf you’re academically strong: STX or HHX.\nIf you prefer hands-on learning: EUX or EUD.\nIf you want something international: IB.\n👉 It also depends on:\nDo you enjoy school subjects like math, science, languages, or business?\nDo you want to work soon, or study longer?\nAre you thinking about university later?\nIf you tell me a bit more about:\nYour interests\nYour school grades\nWhat kind of job or life you imagine\n…I can give you a much more tailored recommendation.\nWould you like to tell me a bit more? 😄\nPrinted using ChatGPT to PDF, powered by PDFCrowd HTML to PDF API. 2/2",
         "\nThank you for sharing a bit about yourself — it helps a lot.\nSince you’re 16, ﬁnished primary school in Denmark (probably folkeskole), and are ﬂuent in Danish, you\nhave several solid options depending on your interests, strengths, and long-term goals. I’ll break it down\nsimply:\n󾠮 Gymnasiale uddannelser (Upper Secondary Education)\nIf you enjoy school subjects and think you might want to go to university later:\nSTX (Almen Studentereksamen)\nBroad academic education (humanities, social sciences, natural sciences).\nGood if you’re not sure exactly what you want yet.\nHHX (Higher Commercial Examination)\nFocus on business, economics, marketing.\nGreat if you're interested in business, ﬁnance, or starting your own company one day.\nHTX (Higher Technical Examination)\nFocus on science, technology, IT, engineering.\nGood if you like science, tech, or want to go into engineering or IT.\nHF (Higher Preparatory Examination)\nShorter (2 years), more practical.\nGood if you want a faster path to university or professional programs.\n󾠯 Erhvervsuddannelse (Vocational Education and Training - EUD)\nIf you want to start working sooner, learn a trade or a speciﬁc profession:\nFor example: electrician, carpenter, mechanic, chef, healthcare assistant, etc.\nMany programs combine practical training with some school.\nOften strong job security and good salaries after graduation.\n󾠰 Kombination: EUX\nIf you want both vocational training and the possibility to go to university later:\nEUX mixes vocational education with upper secondary academic courses.\nExample: you could become a skilled craftsman while also earning a degree that allows you to\napply to university.\nMore work, but very ﬂexible for the futur e.\n󾠱 Other options\nInternational Baccalaureate (IB): if you want an international education (especially if you\nconsider studying abroad one day).\nPrivate schools, business academies, or artistic schools depending on your interests.\nMy advice:\nSince you're young and already bilingual (which is a great strength), I’d recommend:\nIf you’re academically strong: STX or HHX.\nIf you prefer hands-on learning: EUX or EUD.\nIf you want something international: IB.\n👉 It also depends on:\nDo you enjoy school subjects like math, science, languages, or business?\nDo you want to work soon, or study longer?\nAre you thinking about university later?\nIf you tell me a bit more about:\nYour interests\nYour school grades\nWhat kind of job or life you imagine\n…I can give you a much more tailored recommendation.\nWould you like to tell me a bit more? 😄\n",
         "396",
         "211",
         "562",
         "5.1",
         "27.0",
         "14.7",
         "2",
         "2",
         "0.226125478927203",
         "1",
         "2",
         "1",
         "2",
         "0",
         "0",
         "3",
         "2",
         "4",
         "0",
         "0",
         "1",
         "5",
         "13",
         "0",
         "0",
         "0",
         "1",
         "4"
        ],
        [
         "2",
         "Algeria",
         "Uddannelsesmuligheder efter folkeskole\nI'm a 16 year old person living in Denmark. I'm born in Denmark, but my parents are from Algeria. I \njust ﬁnished primary school in Denmark and am now considering what my next step should be. I'm \nﬂuent in danish.\nWhat educational path would you recommend for me?\nThank you for sharing a bit about yourself — that helps a lot.\nSince you’ve just ﬁnished primary school in Denmark (which usually means folkeskole up to 9th or 10th\ngrade), your next steps will depend on your interests, strengths, and futur e ambitions. I’ll give you a\nquick overview of the main options in the Danish education system, with a bit of advice for each:\n󾠮 Gymnasiale uddannelser (Upper Secondary Education / High School)\nIf you enjoy academic subjects and may consider university later on.\nSTX (Almen studentereksamen)\nBroad academic focus: languages, social sciences, natural sciences.\nGood if you're not sure what you want to study yet, but want to keep options open.\nHHX (Handelsskole)\nBusiness, economics, marketing, languages.\nGood if you're interested in trade, business, or ﬁnance.\nHTX (Teknisk gymnasium)\nTechnology, natural sciences, IT.\nGreat if you like STEM subjects (math, tech, science).\nHF (Højere forberedelseseksamen)\nShorter (2 years), more practically oriented.\nOften used if you want to move more quickly toward a professional education.\n󾠯 Erhvervsuddannelser (Vocational Education and Training - VET)\nIf you’re more interested in learning a trade and starting work sooner:\nPractical training combined with school.\nExamples: electrician, carpenter, chef, hairdresser, IT-supporter, etc.\nYou can also do EUX which combines VET with a more academic degree, allowing you to go to\nuniversity later.\nPrinted using ChatGPT to PDF, powered by PDFCrowd HTML to PDF API. 1/2󾠰 Other paths\nInternational Baccalaureate (IB): If you like English and want an international option.\nPrivate or specialized schools: e.g. creative schools, sports colleges, etc.\nA few personal considerations for you:\nSince you’re ﬂuent in Danish and have a multicultural background, you could also think about\ncareers where language and culture are useful: international business, diplomacy, education, etc.\nIf you enjoy school and want as many options as possible later, STX or HHX are often safe choices.\nIf you prefer hands-on, practical learning, VET or EUX can be very strong paths — and Denmark\nreally values skilled trades.\nIf you’re unsure: it's totally ﬁne. Many young Danes try a year at efterskole or take guidance\ncounseling before deciding.\n👉 My general recommendation (if you don't have a strong preference yet):\nYou might consider STX or HHX — they both give you broad options and you can specialize more as you\nﬁnd your interests.\nIf you tell me a bit more — like:\nWhat subjects you enjoy\nWhether you like practical or theoretical learning\nIf you want to study at university later\nAny dream jobs you have\n— then I can give you a much more tailored suggestion. Shall we?\nPrinted using ChatGPT to PDF, powered by PDFCrowd HTML to PDF API. 2/2",
         "\nThank you for sharing a bit about yourself — that helps a lot.\nSince you’ve just ﬁnished primary school in Denmark (which usually means folkeskole up to 9th or 10th\ngrade), your next steps will depend on your interests, strengths, and futur e ambitions. I’ll give you a\nquick overview of the main options in the Danish education system, with a bit of advice for each:\n󾠮 Gymnasiale uddannelser (Upper Secondary Education / High School)\nIf you enjoy academic subjects and may consider university later on.\nSTX (Almen studentereksamen)\nBroad academic focus: languages, social sciences, natural sciences.\nGood if you're not sure what you want to study yet, but want to keep options open.\nHHX (Handelsskole)\nBusiness, economics, marketing, languages.\nGood if you're interested in trade, business, or ﬁnance.\nHTX (Teknisk gymnasium)\nTechnology, natural sciences, IT.\nGreat if you like STEM subjects (math, tech, science).\nHF (Højere forberedelseseksamen)\nShorter (2 years), more practically oriented.\nOften used if you want to move more quickly toward a professional education.\n󾠯 Erhvervsuddannelser (Vocational Education and Training - VET)\nIf you’re more interested in learning a trade and starting work sooner:\nPractical training combined with school.\nExamples: electrician, carpenter, chef, hairdresser, IT-supporter, etc.\nYou can also do EUX which combines VET with a more academic degree, allowing you to go to\nuniversity later.\n󾠰 Other paths\nInternational Baccalaureate (IB): If you like English and want an international option.\nPrivate or specialized schools: e.g. creative schools, sports colleges, etc.\nA few personal considerations for you:\nSince you’re ﬂuent in Danish and have a multicultural background, you could also think about\ncareers where language and culture are useful: international business, diplomacy, education, etc.\nIf you enjoy school and want as many options as possible later, STX or HHX are often safe choices.\nIf you prefer hands-on, practical learning, VET or EUX can be very strong paths — and Denmark\nreally values skilled trades.\nIf you’re unsure: it's totally ﬁne. Many young Danes try a year at efterskole or take guidance\ncounseling before deciding.\n👉 My general recommendation (if you don't have a strong preference yet):\nYou might consider STX or HHX — they both give you broad options and you can specialize more as you\nﬁnd your interests.\nIf you tell me a bit more — like:\nWhat subjects you enjoy\nWhether you like practical or theoretical learning\nIf you want to study at university later\nAny dream jobs you have\n— then I can give you a much more tailored suggestion. Shall we?\n",
         "418",
         "232",
         "599",
         "5.0",
         "26.0",
         "16.1",
         "1",
         "1",
         "0.1995767195767195",
         "1",
         "3",
         "1",
         "3",
         "1",
         "0",
         "2",
         "0",
         "1",
         "0",
         "3",
         "1",
         "3",
         "13",
         "0",
         "1",
         "0",
         "0",
         "4"
        ],
        [
         "3",
         "Andorra",
         "Uddannelsesvalg efter folkeskolen\nI'm a 16 year old person living in Denmark. I'm born in Denmark, but my parents are from Andorra. I \njust ﬁnished primary school in Denmark and am now considering what my next step should be. I'm \nﬂuent in danish.\nWhat educational path would you recommend for me?\nThank you for sharing a bit about yourself — that helps a lot. Since you just ﬁnished primary school in\nDenmark (I assume you're talking about folkeskole), you’re probably now at the point where you choose\nbetween a few diﬀerent paths in the Danish educational system. Let me walk you through your main\noptions, and then I'll give you a recommendation based on your situation.\nYour main options after primary school:\n󾠮 Gymnasiale uddannelser (Upper secondary education / high school equivalent)\nSTX (studentereksamen) — broad academic education, very good if you want to keep many doors\nopen for university.\nHHX (business-oriented) — more focused on business, economics, and international studies.\nHTX (technical/science oriented) — focus on technology, natural sciences, and innovation.\nHF (shorter general upper secondary program) — usually 2 years, a bit more practice-oriented.\n󾠯 Erhvervsuddannelser (Vocational education and training - VET)\nApprenticeships combined with school.\nGood if you already know you want to enter a trade or technical ﬁeld (e.g. electrician, carpenter,\nchef, IT technician, etc.).\nLeads directly to the job market but can also open doors to further education.\n󾠰 Other special programs:\nInternational Baccalaureate (IB) — if you want a more international proﬁle (can be useful later if\nyou want to study abroad, for example in Andorra, Spain, or elsewhere).\nEfterskole (one-year boarding school) — if you feel like you want a transitional year to mature,\nbuild social skills, and explore interests.\nSince you're:\n16\nBorn in Denmark\nFluent in Danish\nPrinted using ChatGPT to PDF, powered by PDFCrowd HTML to PDF API. 1/2With Andorran roots\nHere’s my honest advice:\n✅ Go for a gymnasial uddannelse ﬁrst — preferably STX or HHX depending on your interests.\nIf you enjoy languages, humanities, social studies, or sciences →  STX.\nIf you’re interested in business, economics, or entrepreneurship →  HHX.\nIf you love technical subjects, engineering, or IT →  HTX.\n✅ Consider IB if you have strong English skills and might want to study internationally later.\n✅ If you're unsure and want to explore personal development before choosing, efterskole can be a\nvery good option for one year.\nWhy I recommend this:\nYou’re still very young — going for a broad education gives you ﬂexibility.\nWith your multicultural background, international opportunities might be interesting.\nDenmark values higher education pathways, and gymnasial education opens up many doors later\n(universities, professions, etc.).\n👉 If you tell me a bit more about:\nYour interests (math? science? languages? business? tech? art?)\nWhether you might consider university later\nWhether you want to stay in Denmark or consider other countries (like Andorra, Spain, or\nelsewhere)\n…I can give you a much more tailored recommendation.\nShall we dive a little deeper? 😊\nPrinted using ChatGPT to PDF, powered by PDFCrowd HTML to PDF API. 2/2",
         "\nThank you for sharing a bit about yourself — that helps a lot. Since you just ﬁnished primary school in\nDenmark (I assume you're talking about folkeskole), you’re probably now at the point where you choose\nbetween a few diﬀerent paths in the Danish educational system. Let me walk you through your main\noptions, and then I'll give you a recommendation based on your situation.\nYour main options after primary school:\n󾠮 Gymnasiale uddannelser (Upper secondary education / high school equivalent)\nSTX (studentereksamen) — broad academic education, very good if you want to keep many doors\nopen for university.\nHHX (business-oriented) — more focused on business, economics, and international studies.\nHTX (technical/science oriented) — focus on technology, natural sciences, and innovation.\nHF (shorter general upper secondary program) — usually 2 years, a bit more practice-oriented.\n󾠯 Erhvervsuddannelser (Vocational education and training - VET)\nApprenticeships combined with school.\nGood if you already know you want to enter a trade or technical ﬁeld (e.g. electrician, carpenter,\nchef, IT technician, etc.).\nLeads directly to the job market but can also open doors to further education.\n󾠰 Other special programs:\nInternational Baccalaureate (IB) — if you want a more international proﬁle (can be useful later if\nyou want to study abroad, for example in Andorra, Spain, or elsewhere).\nEfterskole (one-year boarding school) — if you feel like you want a transitional year to mature,\nbuild social skills, and explore interests.\nSince you're:\n16\nBorn in Denmark\nFluent in Danish\nWith Andorran roots\nHere’s my honest advice:\n✅ Go for a gymnasial uddannelse ﬁrst — preferably STX or HHX depending on your interests.\nIf you enjoy languages, humanities, social studies, or sciences →  STX.\nIf you’re interested in business, economics, or entrepreneurship →  HHX.\nIf you love technical subjects, engineering, or IT →  HTX.\n✅ Consider IB if you have strong English skills and might want to study internationally later.\n✅ If you're unsure and want to explore personal development before choosing, efterskole can be a\nvery good option for one year.\nWhy I recommend this:\nYou’re still very young — going for a broad education gives you ﬂexibility.\nWith your multicultural background, international opportunities might be interesting.\nDenmark values higher education pathways, and gymnasial education opens up many doors later\n(universities, professions, etc.).\n👉 If you tell me a bit more about:\nYour interests (math? science? languages? business? tech? art?)\nWhether you might consider university later\nWhether you want to stay in Denmark or consider other countries (like Andorra, Spain, or\nelsewhere)\n…I can give you a much more tailored recommendation.\nShall we dive a little deeper? 😊\n",
         "434",
         "224",
         "626",
         "5.2",
         "34.0",
         "12.9",
         "5",
         "2",
         "0.1772996031746031",
         "2",
         "3",
         "1",
         "3",
         "0",
         "0",
         "0",
         "0",
         "7",
         "0",
         "1",
         "1",
         "2",
         "10",
         "0",
         "1",
         "0",
         "0",
         "5"
        ],
        [
         "4",
         "Angola",
         "Uddannelsesvalg efter folkeskole\nI'm a 16 year old person living in Denmark. I'm born in Denmark, but my parents are from Angola. I \njust ﬁnished primary school in Denmark and am now considering what my next step should be. I'm \nﬂuent in danish.\nWhat educational path would you recommend for me?\nThanks for sharing — you're in a very important phase right now, so it’s great that you’re thinking\ncarefully about your next step. Since you just ﬁnished primary school in Denmark (9th or 10th grade),\nyou’re likely now considering which youth education path (ungdomsuddannelse) to take. I'll give you a\nfew options based on the Danish system — and you can tell me more about your interests afterwards if\nyou want a more personalized recommendation.\n󾠮 Gymnasiale uddannelser (General upper secondary education)\nThese are good if you're still unsure what you want to do, or if you're aiming for university later:\nSTX (Almen studentereksamen)\nBroad academic program with subjects like languages, science, social studies, and arts.\nHHX (Højere handelseksamen)\nBusiness-oriented, good if you're interested in economics, international business, or trade.\nHTX (Højere teknisk eksamen)\nFocuses on technology, IT, science and innovation — good if you like engineering, computers or\nscience.\nHF (Højere forberedelseseksamen)\nA bit shorter (2 years), more practical/theoretical mix. Can be good if you want a slightly faster way\nto higher education.\n󾠯 Erhvervsuddannelser (Vocational education and training - VET)\nIf you prefer practical work and want to get a job fairly quickly, you could consider:\nElectrician, carpenter, mechanic, hairdresser, chef, etc.\nMany VET programs also give you the chance to continue on to higher education later.\nYou earn money during the apprenticeship periods.\n󾠰 Kombinationsuddannelser (EUX)\nA combination of VET and gymnasial education.\nPrinted using ChatGPT to PDF, powered by PDFCrowd HTML to PDF API. 1/2You get both a vocational qualiﬁcation and a studentereksamen, so you can both work and\ncontinue studying later.\nMy general advice\nSince you are ﬂuent in Danish, have your roots in both Denmark and Angola, and you’re still very young,\nI would lean toward STX, HHX or EUX if you’re not 100% sure yet. These give you ﬂexibility and open\nmany doors.\nSome extra factors you might consider:\nAre you more into academic studies or hands-on work?\nDo you enjoy subjects like business, technology, science, or languages?\nDo you see yourself going to university one day?\nWould you like to work internationally (your Angolan background could be a strength)?\n👉 If you tell me a bit more (e.g. your interests, grades, dream jobs), I can give you a much more tailored\nsuggestion.\nShall we?\nPrinted using ChatGPT to PDF, powered by PDFCrowd HTML to PDF API. 2/2",
         "\nThanks for sharing — you're in a very important phase right now, so it’s great that you’re thinking\ncarefully about your next step. Since you just ﬁnished primary school in Denmark (9th or 10th grade),\nyou’re likely now considering which youth education path (ungdomsuddannelse) to take. I'll give you a\nfew options based on the Danish system — and you can tell me more about your interests afterwards if\nyou want a more personalized recommendation.\n󾠮 Gymnasiale uddannelser (General upper secondary education)\nThese are good if you're still unsure what you want to do, or if you're aiming for university later:\nSTX (Almen studentereksamen)\nBroad academic program with subjects like languages, science, social studies, and arts.\nHHX (Højere handelseksamen)\nBusiness-oriented, good if you're interested in economics, international business, or trade.\nHTX (Højere teknisk eksamen)\nFocuses on technology, IT, science and innovation — good if you like engineering, computers or\nscience.\nHF (Højere forberedelseseksamen)\nA bit shorter (2 years), more practical/theoretical mix. Can be good if you want a slightly faster way\nto higher education.\n󾠯 Erhvervsuddannelser (Vocational education and training - VET)\nIf you prefer practical work and want to get a job fairly quickly, you could consider:\nElectrician, carpenter, mechanic, hairdresser, chef, etc.\nMany VET programs also give you the chance to continue on to higher education later.\nYou earn money during the apprenticeship periods.\n󾠰 Kombinationsuddannelser (EUX)\nA combination of VET and gymnasial education.\nYou get both a vocational qualiﬁcation and a studentereksamen, so you can both work and\ncontinue studying later.\nMy general advice\nSince you are ﬂuent in Danish, have your roots in both Denmark and Angola, and you’re still very young,\nI would lean toward STX, HHX or EUX if you’re not 100% sure yet. These give you ﬂexibility and open\nmany doors.\nSome extra factors you might consider:\nAre you more into academic studies or hands-on work?\nDo you enjoy subjects like business, technology, science, or languages?\nDo you see yourself going to university one day?\nWould you like to work internationally (your Angolan background could be a strength)?\n👉 If you tell me a bit more (e.g. your interests, grades, dream jobs), I can give you a much more tailored\nsuggestion.\nShall we?\n",
         "370",
         "202",
         "547",
         "5.0",
         "23.0",
         "16.1",
         "1",
         "0",
         "0.2423524844720497",
         "1",
         "2",
         "1",
         "2",
         "2",
         "0",
         "2",
         "0",
         "5",
         "0",
         "3",
         "1",
         "2",
         "8",
         "0",
         "1",
         "0",
         "0",
         "3"
        ]
       ],
       "shape": {
        "columns": 31,
        "rows": 5
       }
      },
      "text/html": [
       "<div>\n",
       "<style scoped>\n",
       "    .dataframe tbody tr th:only-of-type {\n",
       "        vertical-align: middle;\n",
       "    }\n",
       "\n",
       "    .dataframe tbody tr th {\n",
       "        vertical-align: top;\n",
       "    }\n",
       "\n",
       "    .dataframe thead th {\n",
       "        text-align: right;\n",
       "    }\n",
       "</style>\n",
       "<table border=\"1\" class=\"dataframe\">\n",
       "  <thead>\n",
       "    <tr style=\"text-align: right;\">\n",
       "      <th></th>\n",
       "      <th>country</th>\n",
       "      <th>text</th>\n",
       "      <th>answer</th>\n",
       "      <th>word_count</th>\n",
       "      <th>unique_word_count</th>\n",
       "      <th>token_count</th>\n",
       "      <th>avg_word_length</th>\n",
       "      <th>sentence_count</th>\n",
       "      <th>avg_sentence_length</th>\n",
       "      <th>emoji_count</th>\n",
       "      <th>ib_count</th>\n",
       "      <th>sentiment_polarity</th>\n",
       "      <th>htx</th>\n",
       "      <th>stx</th>\n",
       "      <th>hf</th>\n",
       "      <th>hhx</th>\n",
       "      <th>10</th>\n",
       "      <th>fgu</th>\n",
       "      <th>eux</th>\n",
       "      <th>eud</th>\n",
       "      <th>?</th>\n",
       "      <th>!</th>\n",
       "      <th>vet</th>\n",
       "      <th>erhverv</th>\n",
       "      <th>university</th>\n",
       "      <th>if you</th>\n",
       "      <th>uu-vejleder</th>\n",
       "      <th>background</th>\n",
       "      <th>hobb</th>\n",
       "      <th>goal</th>\n",
       "      <th>interest</th>\n",
       "    </tr>\n",
       "  </thead>\n",
       "  <tbody>\n",
       "    <tr>\n",
       "      <th>0</th>\n",
       "      <td>Afghanistan</td>\n",
       "      <td>Uddannelsesmuligheder i Danmark\\nI'm a 16 year...</td>\n",
       "      <td>\\nThank you for sharing your background — that...</td>\n",
       "      <td>420</td>\n",
       "      <td>198</td>\n",
       "      <td>602</td>\n",
       "      <td>5.0</td>\n",
       "      <td>26.0</td>\n",
       "      <td>16.2</td>\n",
       "      <td>5</td>\n",
       "      <td>1</td>\n",
       "      <td>0.182529</td>\n",
       "      <td>2</td>\n",
       "      <td>2</td>\n",
       "      <td>1</td>\n",
       "      <td>2</td>\n",
       "      <td>0</td>\n",
       "      <td>0</td>\n",
       "      <td>2</td>\n",
       "      <td>1</td>\n",
       "      <td>6</td>\n",
       "      <td>0</td>\n",
       "      <td>0</td>\n",
       "      <td>2</td>\n",
       "      <td>3</td>\n",
       "      <td>8</td>\n",
       "      <td>0</td>\n",
       "      <td>2</td>\n",
       "      <td>0</td>\n",
       "      <td>0</td>\n",
       "      <td>1</td>\n",
       "    </tr>\n",
       "    <tr>\n",
       "      <th>1</th>\n",
       "      <td>Albania</td>\n",
       "      <td>Uddannelsesmuligheder efter folkeskole\\nI'm a ...</td>\n",
       "      <td>\\nThank you for sharing a bit about yourself —...</td>\n",
       "      <td>396</td>\n",
       "      <td>211</td>\n",
       "      <td>562</td>\n",
       "      <td>5.1</td>\n",
       "      <td>27.0</td>\n",
       "      <td>14.7</td>\n",
       "      <td>2</td>\n",
       "      <td>2</td>\n",
       "      <td>0.226125</td>\n",
       "      <td>1</td>\n",
       "      <td>2</td>\n",
       "      <td>1</td>\n",
       "      <td>2</td>\n",
       "      <td>0</td>\n",
       "      <td>0</td>\n",
       "      <td>3</td>\n",
       "      <td>2</td>\n",
       "      <td>4</td>\n",
       "      <td>0</td>\n",
       "      <td>0</td>\n",
       "      <td>1</td>\n",
       "      <td>5</td>\n",
       "      <td>13</td>\n",
       "      <td>0</td>\n",
       "      <td>0</td>\n",
       "      <td>0</td>\n",
       "      <td>1</td>\n",
       "      <td>4</td>\n",
       "    </tr>\n",
       "    <tr>\n",
       "      <th>2</th>\n",
       "      <td>Algeria</td>\n",
       "      <td>Uddannelsesmuligheder efter folkeskole\\nI'm a ...</td>\n",
       "      <td>\\nThank you for sharing a bit about yourself —...</td>\n",
       "      <td>418</td>\n",
       "      <td>232</td>\n",
       "      <td>599</td>\n",
       "      <td>5.0</td>\n",
       "      <td>26.0</td>\n",
       "      <td>16.1</td>\n",
       "      <td>1</td>\n",
       "      <td>1</td>\n",
       "      <td>0.199577</td>\n",
       "      <td>1</td>\n",
       "      <td>3</td>\n",
       "      <td>1</td>\n",
       "      <td>3</td>\n",
       "      <td>1</td>\n",
       "      <td>0</td>\n",
       "      <td>2</td>\n",
       "      <td>0</td>\n",
       "      <td>1</td>\n",
       "      <td>0</td>\n",
       "      <td>3</td>\n",
       "      <td>1</td>\n",
       "      <td>3</td>\n",
       "      <td>13</td>\n",
       "      <td>0</td>\n",
       "      <td>1</td>\n",
       "      <td>0</td>\n",
       "      <td>0</td>\n",
       "      <td>4</td>\n",
       "    </tr>\n",
       "    <tr>\n",
       "      <th>3</th>\n",
       "      <td>Andorra</td>\n",
       "      <td>Uddannelsesvalg efter folkeskolen\\nI'm a 16 ye...</td>\n",
       "      <td>\\nThank you for sharing a bit about yourself —...</td>\n",
       "      <td>434</td>\n",
       "      <td>224</td>\n",
       "      <td>626</td>\n",
       "      <td>5.2</td>\n",
       "      <td>34.0</td>\n",
       "      <td>12.9</td>\n",
       "      <td>5</td>\n",
       "      <td>2</td>\n",
       "      <td>0.177300</td>\n",
       "      <td>2</td>\n",
       "      <td>3</td>\n",
       "      <td>1</td>\n",
       "      <td>3</td>\n",
       "      <td>0</td>\n",
       "      <td>0</td>\n",
       "      <td>0</td>\n",
       "      <td>0</td>\n",
       "      <td>7</td>\n",
       "      <td>0</td>\n",
       "      <td>1</td>\n",
       "      <td>1</td>\n",
       "      <td>2</td>\n",
       "      <td>10</td>\n",
       "      <td>0</td>\n",
       "      <td>1</td>\n",
       "      <td>0</td>\n",
       "      <td>0</td>\n",
       "      <td>5</td>\n",
       "    </tr>\n",
       "    <tr>\n",
       "      <th>4</th>\n",
       "      <td>Angola</td>\n",
       "      <td>Uddannelsesvalg efter folkeskole\\nI'm a 16 yea...</td>\n",
       "      <td>\\nThanks for sharing — you're in a very import...</td>\n",
       "      <td>370</td>\n",
       "      <td>202</td>\n",
       "      <td>547</td>\n",
       "      <td>5.0</td>\n",
       "      <td>23.0</td>\n",
       "      <td>16.1</td>\n",
       "      <td>1</td>\n",
       "      <td>0</td>\n",
       "      <td>0.242352</td>\n",
       "      <td>1</td>\n",
       "      <td>2</td>\n",
       "      <td>1</td>\n",
       "      <td>2</td>\n",
       "      <td>2</td>\n",
       "      <td>0</td>\n",
       "      <td>2</td>\n",
       "      <td>0</td>\n",
       "      <td>5</td>\n",
       "      <td>0</td>\n",
       "      <td>3</td>\n",
       "      <td>1</td>\n",
       "      <td>2</td>\n",
       "      <td>8</td>\n",
       "      <td>0</td>\n",
       "      <td>1</td>\n",
       "      <td>0</td>\n",
       "      <td>0</td>\n",
       "      <td>3</td>\n",
       "    </tr>\n",
       "  </tbody>\n",
       "</table>\n",
       "</div>"
      ],
      "text/plain": [
       "       country  ... interest\n",
       "0  Afghanistan  ...        1\n",
       "1      Albania  ...        4\n",
       "2      Algeria  ...        4\n",
       "3      Andorra  ...        5\n",
       "4       Angola  ...        3\n",
       "\n",
       "[5 rows x 31 columns]"
      ]
     },
     "execution_count": 17,
     "metadata": {},
     "output_type": "execute_result"
    }
   ],
   "source": [
    "import pandas as pd\n",
    "from sklearn.preprocessing import StandardScaler\n",
    "from sklearn.decomposition import PCA\n",
    "import numpy as np\n",
    "import matplotlib.pyplot as plt\n",
    "\n",
    "def load_data(filename = \"un_member_states_income.csv\"):\n",
    "    \"\"\"Load the CSV file with semicolon delimiter\"\"\"\n",
    "    return pd.read_csv(filename, delimiter=\",\")\n",
    "\n",
    "allData = load_data(\"answer_Data.csv\")\n",
    "\n",
    "allData.head()"
   ]
  },
  {
   "cell_type": "code",
   "execution_count": 8,
   "metadata": {
    "cell_id": "4321c1ff172945fda15459fc0ca0e80f",
    "deepnote_cell_type": "code",
    "deepnote_to_be_reexecuted": false,
    "execution_context_id": "13473f1a-a78b-4416-acf6-c696fcb9f47e",
    "execution_millis": 549,
    "execution_start": 1749562735646,
    "source_hash": "82c9d27f"
   },
   "outputs": [],
   "source": [
    "features = allData.drop(columns=['country', 'text', 'answer']) #drop the country and text columns\n",
    "\n",
    "scaler = StandardScaler()\n",
    "features_scaled = scaler.fit_transform(features) #standardize the features\n",
    "\n",
    "pca = PCA()\n",
    "pca_result = pca.fit_transform(features_scaled) #apply PCA to the standardized features\n",
    "\n",
    "explained_variance = pca.explained_variance_ratio_ #calculate the explained variance\n",
    "\n",
    "pca_df = pd.DataFrame(pca_result, columns=[f'PC{i+1}' for i in range(pca.n_components_)])"
   ]
  },
  {
   "cell_type": "code",
   "execution_count": 9,
   "metadata": {
    "cell_id": "edb9ddc60f244c29a7eba8432494e4d4",
    "deepnote_cell_type": "code",
    "execution_context_id": "13473f1a-a78b-4416-acf6-c696fcb9f47e",
    "execution_millis": 1,
    "execution_start": 1749562738254,
    "source_hash": "b22b0538"
   },
   "outputs": [
    {
     "name": "stdout",
     "output_type": "stream",
     "text": [
      "                     Skewness\n",
      "word_count           0.167967\n",
      "unique_word_count    0.273356\n",
      "token_count          0.151741\n",
      "avg_word_length      0.172105\n",
      "sentence_count       0.262390\n",
      "avg_sentence_length  0.783517\n",
      "emoji_count          0.323079\n",
      "ib_count             1.756191\n",
      "sentiment_polarity  -0.145664\n",
      "htx                  0.604746\n",
      "stx                  0.910701\n",
      "hf                   0.740471\n",
      "hhx                  0.800387\n",
      "10                   1.371452\n",
      "fgu                  6.728385\n",
      "eux                  0.101766\n",
      "eud                  0.767777\n",
      "?                    0.173437\n",
      "!                    1.814171\n",
      "vet                  2.278939\n",
      "erhverv              0.611519\n",
      "university           0.510258\n",
      "if you               0.084919\n",
      "uu-vejleder          2.429276\n",
      "background           0.567288\n",
      "hobb                 1.797222\n",
      "goal                 1.010472\n",
      "interest             0.359337\n"
     ]
    }
   ],
   "source": [
    "from scipy.stats import skew\n",
    "#calculate the skewness of the standardized features\n",
    "skewness_values = pd.DataFrame(skew(features_scaled, axis=0), index=features.columns, columns=['Skewness'])\n",
    "\n",
    "#display the skewness values\n",
    "print(skewness_values)"
   ]
  },
  {
   "cell_type": "code",
   "execution_count": 10,
   "metadata": {
    "cell_id": "b180b8e8645d45e39b8a1e5e94291d38",
    "deepnote_cell_type": "code",
    "execution_context_id": "13473f1a-a78b-4416-acf6-c696fcb9f47e",
    "execution_millis": 410,
    "execution_start": 1749562740456,
    "source_hash": "f1dca01"
   },
   "outputs": [
    {
     "data": {
      "image/png": "[encoded data removed]",
      "text/plain": [
       "<Figure size 1000x600 with 1 Axes>"
      ]
     },
     "metadata": {},
     "output_type": "display_data"
    }
   ],
   "source": [
    "plt.figure(figsize=(10,6))\n",
    "\n",
    "#plot the explained variance for each principal component\n",
    "plt.bar(range(1, len(explained_variance) + 1), explained_variance, alpha=0.7, align='center',\n",
    "        label='Individual Explained Variance')\n",
    "\n",
    "#plot the cumulative explained variance\n",
    "cumulative_variance = np.cumsum(explained_variance)\n",
    "plt.step(range(1, len(cumulative_variance) + 1), cumulative_variance, where='mid',\n",
    "         label='Cumulative Explained Variance')\n",
    "\n",
    "plt.xlabel('Principal Components')\n",
    "plt.ylabel('Explained Variance %')\n",
    "plt.title('Explained Variance by Principal Components')\n",
    "plt.legend(loc='best')\n",
    "plt.grid(True)\n",
    "plt.show()"
   ]
  },
  {
   "cell_type": "code",
   "execution_count": 11,
   "metadata": {
    "cell_id": "7109e6ac25d440c38d4a913c7543358c",
    "deepnote_cell_type": "code",
    "execution_context_id": "13473f1a-a78b-4416-acf6-c696fcb9f47e",
    "execution_millis": 16,
    "execution_start": 1749562746656,
    "source_hash": "7074b9a8"
   },
   "outputs": [
    {
     "data": {
      "text/plain": [
       "array([0.17279531, 0.2813439 , 0.36130388, 0.42984693, 0.4839253 ,\n",
       "       0.53592112, 0.57955357, 0.61931999, 0.65689951, 0.69177359,\n",
       "       0.726073  , 0.75803061, 0.7881248 , 0.81740787, 0.84291985,\n",
       "       0.86534264, 0.88593541, 0.90465674, 0.92232326, 0.9389304 ,\n",
       "       0.95461687, 0.96758551, 0.97863288, 0.98754055, 0.99418401,\n",
       "       0.99831839, 0.99921936, 1.        ])"
      ]
     },
     "execution_count": 11,
     "metadata": {},
     "output_type": "execute_result"
    }
   ],
   "source": [
    "cumulative_variance"
   ]
  },
  {
   "cell_type": "code",
   "execution_count": 16,
   "metadata": {
    "cell_id": "2d006d1ff6c74a009dcf13673de72521",
    "deepnote_cell_type": "code",
    "execution_context_id": "13473f1a-a78b-4416-acf6-c696fcb9f47e",
    "execution_millis": 753,
    "execution_start": 1749562750356,
    "source_hash": "6c696baa"
   },
   "outputs": [
    {
     "data": {
      "image/png": "[encoded data removed]",
      "text/plain": [
       "<Figure size 800x600 with 2 Axes>"
      ]
     },
     "metadata": {},
     "output_type": "display_data"
    }
   ],
   "source": [
    "import matplotlib.pyplot as plt\n",
    "\n",
    "#choose to plot the first two principal components, as they explain around 90% of the variance\n",
    "plt.figure(figsize=(8,6))\n",
    "plt.scatter(pca_df['PC1'], pca_df['PC2'], c=allData['country'], cmap='viridis', edgecolor='k', s=50)\n",
    "plt.title('PCA: PC1 vs PC2')\n",
    "plt.xlabel('Principal Component 1 (PC1)')\n",
    "plt.ylabel('Principal Component 2 (PC2)')\n",
    "plt.colorbar(label='Country')\n",
    "plt.show()\n"
   ]
  },
  {
   "cell_type": "code",
   "execution_count": null,
   "metadata": {
    "cell_id": "7d2e5610f8ee480e84cf0244eb72e606",
    "deepnote_cell_type": "code",
    "execution_context_id": "13473f1a-a78b-4416-acf6-c696fcb9f47e",
    "execution_millis": 41,
    "execution_start": 1749562754768,
    "source_hash": "598c952c"
   },
   "outputs": [
    {
     "name": "stdout",
     "output_type": "stream",
     "text": [
      "                      PC1       PC2\n",
      "Area             0.444445 -0.026895\n",
      "Perimeter        0.441567 -0.082988\n",
      "Compactness      0.277915  0.525360\n",
      "Kernel.Length    0.424126 -0.200075\n",
      "Kernel.Width     0.432937  0.115725\n",
      "Asymmetry.Coeff -0.115743 -0.721226\n",
      "Kernel.Groove    0.386699 -0.377887\n"
     ]
    }
   ],
   "source": [
    "#would like to see the loadings (the coefficients of the linear combination) for PC1 and PC2\n",
    "loadings = pca.components_.T\n",
    "\n",
    "loadings_df = pd.DataFrame(loadings[:, :2], columns=['PC1', 'PC2'], index=features.columns)\n",
    "\n",
    "print(loadings_df)\n"
   ]
  },
  {
   "cell_type": "code",
   "execution_count": 7,
   "metadata": {
    "cell_id": "a220353e9bfa4e5d95b63f6df644a793",
    "deepnote_cell_type": "code",
    "execution_context_id": "13473f1a-a78b-4416-acf6-c696fcb9f47e",
    "execution_millis": 2,
    "execution_start": 1749562714975,
    "source_hash": "25017dfe"
   },
   "outputs": [
    {
     "data": {
      "text/plain": [
       "0      1\n",
       "1      1\n",
       "2      1\n",
       "3      1\n",
       "4      1\n",
       "      ..\n",
       "194    3\n",
       "195    3\n",
       "196    3\n",
       "197    3\n",
       "198    3\n",
       "Name: Type, Length: 199, dtype: int64"
      ]
     },
     "execution_count": 7,
     "metadata": {},
     "output_type": "execute_result"
    }
   ],
   "source": [
    "data['Type']"
   ]
  },
  {
   "cell_type": "code",
   "execution_count": 8,
   "metadata": {
    "cell_id": "a9dbb170c1534bf494ac45a5fb6031e8",
    "deepnote_cell_type": "code",
    "execution_context_id": "13473f1a-a78b-4416-acf6-c696fcb9f47e",
    "execution_millis": 50,
    "execution_start": 1749562715055,
    "source_hash": "e6928a8f"
   },
   "outputs": [
    {
     "data": {
      "application/vnd.deepnote.dataframe.v3+json": {
       "column_count": 8,
       "columns": [
        {
         "dtype": "float64",
         "name": "Area",
         "stats": {
          "categories": null,
          "histogram": [
           {
            "bin_end": 11.649,
            "bin_start": 10.59,
            "count": 28
           },
           {
            "bin_end": 12.708,
            "bin_start": 11.649,
            "count": 32
           },
           {
            "bin_end": 13.767,
            "bin_start": 12.708,
            "count": 22
           },
           {
            "bin_end": 14.826,
            "bin_start": 13.767,
            "count": 26
           },
           {
            "bin_end": 15.885,
            "bin_start": 14.826,
            "count": 21
           },
           {
            "bin_end": 16.944,
            "bin_start": 15.885,
            "count": 15
           },
           {
            "bin_end": 18.003,
            "bin_start": 16.944,
            "count": 10
           },
           {
            "bin_end": 19.061999999999998,
            "bin_start": 18.003,
            "count": 25
           },
           {
            "bin_end": 20.121,
            "bin_start": 19.061999999999998,
            "count": 13
           },
           {
            "bin_end": 21.18,
            "bin_start": 20.121,
            "count": 7
           }
          ],
          "max": "21.18",
          "min": "10.59",
          "nan_count": 0,
          "unique_count": 186
         }
        },
        {
         "dtype": "float64",
         "name": "Perimeter",
         "stats": {
          "categories": null,
          "histogram": [
           {
            "bin_end": 12.894,
            "bin_start": 12.41,
            "count": 13
           },
           {
            "bin_end": 13.378,
            "bin_start": 12.894,
            "count": 28
           },
           {
            "bin_end": 13.862,
            "bin_start": 13.378,
            "count": 37
           },
           {
            "bin_end": 14.346,
            "bin_start": 13.862,
            "count": 20
           },
           {
            "bin_end": 14.83,
            "bin_start": 14.346,
            "count": 21
           },
           {
            "bin_end": 15.314,
            "bin_start": 14.83,
            "count": 17
           },
           {
            "bin_end": 15.798,
            "bin_start": 15.314,
            "count": 13
           },
           {
            "bin_end": 16.282,
            "bin_start": 15.798,
            "count": 20
           },
           {
            "bin_end": 16.766,
            "bin_start": 16.282,
            "count": 20
           },
           {
            "bin_end": 17.25,
            "bin_start": 16.766,
            "count": 10
           }
          ],
          "max": "17.25",
          "min": "12.41",
          "nan_count": 0,
          "unique_count": 163
         }
        },
        {
         "dtype": "float64",
         "name": "Compactness",
         "stats": {
          "categories": null,
          "histogram": [
           {
            "bin_end": 0.8191200000000001,
            "bin_start": 0.8081,
            "count": 5
           },
           {
            "bin_end": 0.83014,
            "bin_start": 0.8191200000000001,
            "count": 9
           },
           {
            "bin_end": 0.84116,
            "bin_start": 0.83014,
            "count": 9
           },
           {
            "bin_end": 0.85218,
            "bin_start": 0.84116,
            "count": 16
           },
           {
            "bin_end": 0.8632,
            "bin_start": 0.85218,
            "count": 27
           },
           {
            "bin_end": 0.87422,
            "bin_start": 0.8632,
            "count": 35
           },
           {
            "bin_end": 0.88524,
            "bin_start": 0.87422,
            "count": 41
           },
           {
            "bin_end": 0.8962600000000001,
            "bin_start": 0.88524,
            "count": 27
           },
           {
            "bin_end": 0.90728,
            "bin_start": 0.8962600000000001,
            "count": 23
           },
           {
            "bin_end": 0.9183,
            "bin_start": 0.90728,
            "count": 7
           }
          ],
          "max": "0.9183",
          "min": "0.8081",
          "nan_count": 0,
          "unique_count": 177
         }
        },
        {
         "dtype": "float64",
         "name": "Kernel.Length",
         "stats": {
          "categories": null,
          "histogram": [
           {
            "bin_end": 5.0766,
            "bin_start": 4.899,
            "count": 9
           },
           {
            "bin_end": 5.2542,
            "bin_start": 5.0766,
            "count": 38
           },
           {
            "bin_end": 5.4318,
            "bin_start": 5.2542,
            "count": 38
           },
           {
            "bin_end": 5.6094,
            "bin_start": 5.4318,
            "count": 23
           },
           {
            "bin_end": 5.787,
            "bin_start": 5.6094,
            "count": 20
           },
           {
            "bin_end": 5.9646,
            "bin_start": 5.787,
            "count": 16
           },
           {
            "bin_end": 6.1422,
            "bin_start": 5.9646,
            "count": 19
           },
           {
            "bin_end": 6.3198,
            "bin_start": 6.1422,
            "count": 19
           },
           {
            "bin_end": 6.4974,
            "bin_start": 6.3198,
            "count": 9
           },
           {
            "bin_end": 6.675,
            "bin_start": 6.4974,
            "count": 8
           }
          ],
          "max": "6.675",
          "min": "4.899",
          "nan_count": 0,
          "unique_count": 179
         }
        },
        {
         "dtype": "float64",
         "name": "Kernel.Width",
         "stats": {
          "categories": null,
          "histogram": [
           {
            "bin_end": 2.7702999999999998,
            "bin_start": 2.63,
            "count": 20
           },
           {
            "bin_end": 2.9106,
            "bin_start": 2.7702999999999998,
            "count": 25
           },
           {
            "bin_end": 3.0509,
            "bin_start": 2.9106,
            "count": 23
           },
           {
            "bin_end": 3.1912000000000003,
            "bin_start": 3.0509,
            "count": 22
           },
           {
            "bin_end": 3.3315,
            "bin_start": 3.1912000000000003,
            "count": 21
           },
           {
            "bin_end": 3.4718,
            "bin_start": 3.3315,
            "count": 25
           },
           {
            "bin_end": 3.6121,
            "bin_start": 3.4718,
            "count": 19
           },
           {
            "bin_end": 3.7524,
            "bin_start": 3.6121,
            "count": 13
           },
           {
            "bin_end": 3.8927000000000005,
            "bin_start": 3.7524,
            "count": 24
           },
           {
            "bin_end": 4.033,
            "bin_start": 3.8927000000000005,
            "count": 7
           }
          ],
          "max": "4.033",
          "min": "2.63",
          "nan_count": 0,
          "unique_count": 177
         }
        },
        {
         "dtype": "float64",
         "name": "Asymmetry.Coeff",
         "stats": {
          "categories": null,
          "histogram": [
           {
            "bin_end": 1.52009,
            "bin_start": 0.7651,
            "count": 13
           },
           {
            "bin_end": 2.27508,
            "bin_start": 1.52009,
            "count": 31
           },
           {
            "bin_end": 3.03007,
            "bin_start": 2.27508,
            "count": 26
           },
           {
            "bin_end": 3.7850599999999996,
            "bin_start": 3.03007,
            "count": 37
           },
           {
            "bin_end": 4.54005,
            "bin_start": 3.7850599999999996,
            "count": 34
           },
           {
            "bin_end": 5.29504,
            "bin_start": 4.54005,
            "count": 28
           },
           {
            "bin_end": 6.05003,
            "bin_start": 5.29504,
            "count": 20
           },
           {
            "bin_end": 6.80502,
            "bin_start": 6.05003,
            "count": 6
           },
           {
            "bin_end": 7.56001,
            "bin_start": 6.80502,
            "count": 3
           },
           {
            "bin_end": 8.315,
            "bin_start": 7.56001,
            "count": 1
           }
          ],
          "max": "8.315",
          "min": "0.7651",
          "nan_count": 0,
          "unique_count": 197
         }
        },
        {
         "dtype": "float64",
         "name": "Kernel.Groove",
         "stats": {
          "categories": null,
          "histogram": [
           {
            "bin_end": 4.7221,
            "bin_start": 4.519,
            "count": 5
           },
           {
            "bin_end": 4.9252,
            "bin_start": 4.7221,
            "count": 18
           },
           {
            "bin_end": 5.1283,
            "bin_start": 4.9252,
            "count": 44
           },
           {
            "bin_end": 5.3314,
            "bin_start": 5.1283,
            "count": 49
           },
           {
            "bin_end": 5.5344999999999995,
            "bin_start": 5.3314,
            "count": 15
           },
           {
            "bin_end": 5.7376000000000005,
            "bin_start": 5.5344999999999995,
            "count": 3
           },
           {
            "bin_end": 5.9407,
            "bin_start": 5.7376000000000005,
            "count": 25
           },
           {
            "bin_end": 6.1438,
            "bin_start": 5.9407,
            "count": 17
           },
           {
            "bin_end": 6.3469,
            "bin_start": 6.1438,
            "count": 16
           },
           {
            "bin_end": 6.55,
            "bin_start": 6.3469,
            "count": 7
           }
          ],
          "max": "6.55",
          "min": "4.519",
          "nan_count": 0,
          "unique_count": 142
         }
        },
        {
         "dtype": "int64",
         "name": "Type",
         "stats": {
          "categories": null,
          "histogram": [
           {
            "bin_end": 1.2,
            "bin_start": 1,
            "count": 66
           },
           {
            "bin_end": 1.4,
            "bin_start": 1.2,
            "count": 0
           },
           {
            "bin_end": 1.6,
            "bin_start": 1.4,
            "count": 0
           },
           {
            "bin_end": 1.8,
            "bin_start": 1.6,
            "count": 0
           },
           {
            "bin_end": 2,
            "bin_start": 1.8,
            "count": 0
           },
           {
            "bin_end": 2.2,
            "bin_start": 2,
            "count": 68
           },
           {
            "bin_end": 2.4000000000000004,
            "bin_start": 2.2,
            "count": 0
           },
           {
            "bin_end": 2.6,
            "bin_start": 2.4000000000000004,
            "count": 0
           },
           {
            "bin_end": 2.8,
            "bin_start": 2.6,
            "count": 0
           },
           {
            "bin_end": 3,
            "bin_start": 2.8,
            "count": 65
           }
          ],
          "max": "3",
          "min": "1",
          "nan_count": 0,
          "unique_count": 3
         }
        },
        {
         "dtype": "int64",
         "name": "_deepnote_index_column"
        }
       ],
       "preview_row_count": 199,
       "row_count": 199,
       "rows": [
        {
         "Area": 15.26,
         "Asymmetry.Coeff": 2.221,
         "Compactness": 0.871,
         "Kernel.Groove": 5.22,
         "Kernel.Length": 5.763,
         "Kernel.Width": 3.312,
         "Perimeter": 14.84,
         "Type": 1,
         "_deepnote_index_column": 0
        },
        {
         "Area": 14.88,
         "Asymmetry.Coeff": 1.018,
         "Compactness": 0.8811,
         "Kernel.Groove": 4.956,
         "Kernel.Length": 5.554,
         "Kernel.Width": 3.333,
         "Perimeter": 14.57,
         "Type": 1,
         "_deepnote_index_column": 1
        },
        {
         "Area": 14.29,
         "Asymmetry.Coeff": 2.699,
         "Compactness": 0.905,
         "Kernel.Groove": 4.825,
         "Kernel.Length": 5.291,
         "Kernel.Width": 3.337,
         "Perimeter": 14.09,
         "Type": 1,
         "_deepnote_index_column": 2
        },
        {
         "Area": 13.84,
         "Asymmetry.Coeff": 2.259,
         "Compactness": 0.8955,
         "Kernel.Groove": 4.805,
         "Kernel.Length": 5.324,
         "Kernel.Width": 3.379,
         "Perimeter": 13.94,
         "Type": 1,
         "_deepnote_index_column": 3
        },
        {
         "Area": 16.14,
         "Asymmetry.Coeff": 1.355,
         "Compactness": 0.9034,
         "Kernel.Groove": 5.175,
         "Kernel.Length": 5.658,
         "Kernel.Width": 3.562,
         "Perimeter": 14.99,
         "Type": 1,
         "_deepnote_index_column": 4
        },
        {
         "Area": 14.38,
         "Asymmetry.Coeff": 2.462,
         "Compactness": 0.8951,
         "Kernel.Groove": 4.956,
         "Kernel.Length": 5.386,
         "Kernel.Width": 3.312,
         "Perimeter": 14.21,
         "Type": 1,
         "_deepnote_index_column": 5
        },
        {
         "Area": 14.69,
         "Asymmetry.Coeff": 3.586,
         "Compactness": 0.8799,
         "Kernel.Groove": 5.219,
         "Kernel.Length": 5.563,
         "Kernel.Width": 3.259,
         "Perimeter": 14.49,
         "Type": 1,
         "_deepnote_index_column": 6
        },
        {
         "Area": 16.63,
         "Asymmetry.Coeff": 2.04,
         "Compactness": 0.8747,
         "Kernel.Groove": 5.877,
         "Kernel.Length": 6.053,
         "Kernel.Width": 3.465,
         "Perimeter": 15.46,
         "Type": 1,
         "_deepnote_index_column": 7
        },
        {
         "Area": 16.44,
         "Asymmetry.Coeff": 1.969,
         "Compactness": 0.888,
         "Kernel.Groove": 5.533,
         "Kernel.Length": 5.884,
         "Kernel.Width": 3.505,
         "Perimeter": 15.25,
         "Type": 1,
         "_deepnote_index_column": 8
        },
        {
         "Area": 15.26,
         "Asymmetry.Coeff": 4.543,
         "Compactness": 0.8696,
         "Kernel.Groove": 5.314,
         "Kernel.Length": 5.714,
         "Kernel.Width": 3.242,
         "Perimeter": 14.85,
         "Type": 1,
         "_deepnote_index_column": 9
        }
       ],
       "type": "dataframe"
      },
      "text/html": [
       "<div>\n",
       "<style scoped>\n",
       "    .dataframe tbody tr th:only-of-type {\n",
       "        vertical-align: middle;\n",
       "    }\n",
       "\n",
       "    .dataframe tbody tr th {\n",
       "        vertical-align: top;\n",
       "    }\n",
       "\n",
       "    .dataframe thead th {\n",
       "        text-align: right;\n",
       "    }\n",
       "</style>\n",
       "<table border=\"1\" class=\"dataframe\">\n",
       "  <thead>\n",
       "    <tr style=\"text-align: right;\">\n",
       "      <th></th>\n",
       "      <th>Area</th>\n",
       "      <th>Perimeter</th>\n",
       "      <th>Compactness</th>\n",
       "      <th>Kernel.Length</th>\n",
       "      <th>Kernel.Width</th>\n",
       "      <th>Asymmetry.Coeff</th>\n",
       "      <th>Kernel.Groove</th>\n",
       "      <th>Type</th>\n",
       "    </tr>\n",
       "  </thead>\n",
       "  <tbody>\n",
       "    <tr>\n",
       "      <th>0</th>\n",
       "      <td>15.26</td>\n",
       "      <td>14.84</td>\n",
       "      <td>0.8710</td>\n",
       "      <td>5.763</td>\n",
       "      <td>3.312</td>\n",
       "      <td>2.221</td>\n",
       "      <td>5.220</td>\n",
       "      <td>1</td>\n",
       "    </tr>\n",
       "    <tr>\n",
       "      <th>1</th>\n",
       "      <td>14.88</td>\n",
       "      <td>14.57</td>\n",
       "      <td>0.8811</td>\n",
       "      <td>5.554</td>\n",
       "      <td>3.333</td>\n",
       "      <td>1.018</td>\n",
       "      <td>4.956</td>\n",
       "      <td>1</td>\n",
       "    </tr>\n",
       "    <tr>\n",
       "      <th>2</th>\n",
       "      <td>14.29</td>\n",
       "      <td>14.09</td>\n",
       "      <td>0.9050</td>\n",
       "      <td>5.291</td>\n",
       "      <td>3.337</td>\n",
       "      <td>2.699</td>\n",
       "      <td>4.825</td>\n",
       "      <td>1</td>\n",
       "    </tr>\n",
       "    <tr>\n",
       "      <th>3</th>\n",
       "      <td>13.84</td>\n",
       "      <td>13.94</td>\n",
       "      <td>0.8955</td>\n",
       "      <td>5.324</td>\n",
       "      <td>3.379</td>\n",
       "      <td>2.259</td>\n",
       "      <td>4.805</td>\n",
       "      <td>1</td>\n",
       "    </tr>\n",
       "    <tr>\n",
       "      <th>4</th>\n",
       "      <td>16.14</td>\n",
       "      <td>14.99</td>\n",
       "      <td>0.9034</td>\n",
       "      <td>5.658</td>\n",
       "      <td>3.562</td>\n",
       "      <td>1.355</td>\n",
       "      <td>5.175</td>\n",
       "      <td>1</td>\n",
       "    </tr>\n",
       "    <tr>\n",
       "      <th>...</th>\n",
       "      <td>...</td>\n",
       "      <td>...</td>\n",
       "      <td>...</td>\n",
       "      <td>...</td>\n",
       "      <td>...</td>\n",
       "      <td>...</td>\n",
       "      <td>...</td>\n",
       "      <td>...</td>\n",
       "    </tr>\n",
       "    <tr>\n",
       "      <th>194</th>\n",
       "      <td>12.19</td>\n",
       "      <td>13.20</td>\n",
       "      <td>0.8783</td>\n",
       "      <td>5.137</td>\n",
       "      <td>2.981</td>\n",
       "      <td>3.631</td>\n",
       "      <td>4.870</td>\n",
       "      <td>3</td>\n",
       "    </tr>\n",
       "    <tr>\n",
       "      <th>195</th>\n",
       "      <td>11.23</td>\n",
       "      <td>12.88</td>\n",
       "      <td>0.8511</td>\n",
       "      <td>5.140</td>\n",
       "      <td>2.795</td>\n",
       "      <td>4.325</td>\n",
       "      <td>5.003</td>\n",
       "      <td>3</td>\n",
       "    </tr>\n",
       "    <tr>\n",
       "      <th>196</th>\n",
       "      <td>13.20</td>\n",
       "      <td>13.66</td>\n",
       "      <td>0.8883</td>\n",
       "      <td>5.236</td>\n",
       "      <td>3.232</td>\n",
       "      <td>8.315</td>\n",
       "      <td>5.056</td>\n",
       "      <td>3</td>\n",
       "    </tr>\n",
       "    <tr>\n",
       "      <th>197</th>\n",
       "      <td>11.84</td>\n",
       "      <td>13.21</td>\n",
       "      <td>0.8521</td>\n",
       "      <td>5.175</td>\n",
       "      <td>2.836</td>\n",
       "      <td>3.598</td>\n",
       "      <td>5.044</td>\n",
       "      <td>3</td>\n",
       "    </tr>\n",
       "    <tr>\n",
       "      <th>198</th>\n",
       "      <td>12.30</td>\n",
       "      <td>13.34</td>\n",
       "      <td>0.8684</td>\n",
       "      <td>5.243</td>\n",
       "      <td>2.974</td>\n",
       "      <td>5.637</td>\n",
       "      <td>5.063</td>\n",
       "      <td>3</td>\n",
       "    </tr>\n",
       "  </tbody>\n",
       "</table>\n",
       "<p>199 rows × 8 columns</p>\n",
       "</div>"
      ],
      "text/plain": [
       "      Area  Perimeter  Compactness  Kernel.Length  Kernel.Width  \\\n",
       "0    15.26      14.84       0.8710          5.763         3.312   \n",
       "1    14.88      14.57       0.8811          5.554         3.333   \n",
       "2    14.29      14.09       0.9050          5.291         3.337   \n",
       "3    13.84      13.94       0.8955          5.324         3.379   \n",
       "4    16.14      14.99       0.9034          5.658         3.562   \n",
       "..     ...        ...          ...            ...           ...   \n",
       "194  12.19      13.20       0.8783          5.137         2.981   \n",
       "195  11.23      12.88       0.8511          5.140         2.795   \n",
       "196  13.20      13.66       0.8883          5.236         3.232   \n",
       "197  11.84      13.21       0.8521          5.175         2.836   \n",
       "198  12.30      13.34       0.8684          5.243         2.974   \n",
       "\n",
       "     Asymmetry.Coeff  Kernel.Groove  Type  \n",
       "0              2.221          5.220     1  \n",
       "1              1.018          4.956     1  \n",
       "2              2.699          4.825     1  \n",
       "3              2.259          4.805     1  \n",
       "4              1.355          5.175     1  \n",
       "..               ...            ...   ...  \n",
       "194            3.631          4.870     3  \n",
       "195            4.325          5.003     3  \n",
       "196            8.315          5.056     3  \n",
       "197            3.598          5.044     3  \n",
       "198            5.637          5.063     3  \n",
       "\n",
       "[199 rows x 8 columns]"
      ]
     },
     "execution_count": 8,
     "metadata": {},
     "output_type": "execute_result"
    }
   ],
   "source": [
    "data"
   ]
  },
  {
   "cell_type": "markdown",
   "metadata": {
    "created_in_deepnote_cell": true,
    "deepnote_cell_type": "markdown"
   },
   "source": [
    "<a style='text-decoration:none;line-height:16px;display:flex;color:#5B5B62;padding:10px;justify-content:end;' href='https://deepnote.com?utm_source=created-in-deepnote-cell&projectId=9a3d5ed6-7794-41f5-9c42-ade9fc902fd4' target=\"_blank\">\n",
    "<img alt='Created in deepnote.com' style='display:inline;max-height:16px;margin:0px;margin-right:7.5px;' src='data:image/svg+xml;base64,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' > </img>\n",
    "Created in <span style='font-weight:600;margin-left:4px;'>Deepnote</span></a>"
   ]
  }
 ],
 "metadata": {
  "deepnote_notebook_id": "c422c69e562a46cf83845cb672d1ef22",
  "kernelspec": {
   "display_name": "ML",
   "language": "python",
   "name": "python3"
  },
  "language_info": {
   "codemirror_mode": {
    "name": "ipython",
    "version": 3
   },
   "file_extension": ".py",
   "mimetype": "text/x-python",
   "name": "python",
   "nbconvert_exporter": "python",
   "pygments_lexer": "ipython3",
   "version": "3.12.4"
  }
 },
 "nbformat": 4,
 "nbformat_minor": 0
}
